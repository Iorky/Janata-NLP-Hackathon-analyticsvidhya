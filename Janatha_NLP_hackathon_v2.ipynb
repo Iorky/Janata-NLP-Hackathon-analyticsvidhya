{
  "nbformat": 4,
  "nbformat_minor": 0,
  "metadata": {
    "accelerator": "GPU",
    "colab": {
      "name": "Janatha_NLP_hackathon_v2.ipynb",
      "provenance": [],
      "collapsed_sections": [
        "lEWFrsl9Bq34",
        "pEoHfcN-txKb",
        "ApRg7C8_BYRh",
        "K1IyKGjDTUqa",
        "HZgW9j8G_XoJ",
        "-scL6YVaEgda"
      ],
      "toc_visible": true
    },
    "kernelspec": {
      "display_name": "Python 3",
      "language": "python",
      "name": "python3"
    },
    "language_info": {
      "codemirror_mode": {
        "name": "ipython",
        "version": 3
      },
      "file_extension": ".py",
      "mimetype": "text/x-python",
      "name": "python",
      "nbconvert_exporter": "python",
      "pygments_lexer": "ipython3",
      "version": "3.6.6"
    }
  },
  "cells": [
    {
      "cell_type": "markdown",
      "metadata": {
        "colab_type": "text",
        "id": "oY1o9Nyeskqi"
      },
      "source": [
        "# Sentiment Analysis for Steam Reviews\n",
        "Steam is a video game digital distribution service with a vast community of gamers globally. A lot of gamers write reviews at the game page and have an option of choosing whether they would recommend this game to others or not. However, determining this sentiment automatically from text can help Steam to automatically tag such reviews extracted from other forums across the internet and can help them better judge the popularity of games.\n",
        "\n",
        "Given the review text with user recommendation and other information related to each game for 64 game titles, the task is to predict whether the reviewer recommended the game titles available in the test set on the basis of review text and other information.\n",
        "\n",
        "Game overview information for both train and test are available in single file game_overview.csv inside train.zip\n",
        "\n"
      ]
    },
    {
      "cell_type": "code",
      "metadata": {
        "colab_type": "code",
        "id": "-v5G5lq_eXdl",
        "colab": {}
      },
      "source": [
        "import pandas as pd\n",
        "import numpy as np\n",
        "import unicodedata  \n",
        "from nltk import sent_tokenize\n",
        "from nltk.corpus import stopwords\n",
        "import nltk\n",
        "import re\n",
        "from nltk.tokenize import word_tokenize\n",
        "from wordcloud import WordCloud\n",
        "import matplotlib.pyplot as plt\n",
        "from nltk.stem import WordNetLemmatizer\n"
      ],
      "execution_count": 0,
      "outputs": []
    },
    {
      "cell_type": "code",
      "metadata": {
        "colab_type": "code",
        "id": "TeJJDEr3stUU",
        "colab": {}
      },
      "source": [
        "pd.set_option('display.max_rows',100)\n",
        "pd.set_option('display.max_columns',100)"
      ],
      "execution_count": 0,
      "outputs": []
    },
    {
      "cell_type": "code",
      "metadata": {
        "colab_type": "code",
        "id": "ODfN4GYHsGjt",
        "colab": {}
      },
      "source": [
        "train = pd.read_csv('train_E52nqFa/train.csv')\n",
        "game = pd.read_csv('train_E52nqFa/game_overview.csv')\n",
        "test = pd.read_csv('test_BppAoe0/test.csv')"
      ],
      "execution_count": 0,
      "outputs": []
    },
    {
      "cell_type": "markdown",
      "metadata": {
        "colab_type": "text",
        "id": "n058GHy5kLZj"
      },
      "source": [
        "Exploring the train data"
      ]
    },
    {
      "cell_type": "code",
      "metadata": {
        "colab_type": "code",
        "id": "PoQQkrbLkeK2",
        "outputId": "d52e96e5-8f4a-4527-bb3d-66d7d8ee5b48",
        "colab": {
          "base_uri": "https://localhost:8080/",
          "height": 195
        }
      },
      "source": [
        "train.head()"
      ],
      "execution_count": 0,
      "outputs": [
        {
          "output_type": "execute_result",
          "data": {
            "text/html": [
              "<div>\n",
              "<style scoped>\n",
              "    .dataframe tbody tr th:only-of-type {\n",
              "        vertical-align: middle;\n",
              "    }\n",
              "\n",
              "    .dataframe tbody tr th {\n",
              "        vertical-align: top;\n",
              "    }\n",
              "\n",
              "    .dataframe thead th {\n",
              "        text-align: right;\n",
              "    }\n",
              "</style>\n",
              "<table border=\"1\" class=\"dataframe\">\n",
              "  <thead>\n",
              "    <tr style=\"text-align: right;\">\n",
              "      <th></th>\n",
              "      <th>review_id</th>\n",
              "      <th>title</th>\n",
              "      <th>year</th>\n",
              "      <th>user_review</th>\n",
              "      <th>user_suggestion</th>\n",
              "    </tr>\n",
              "  </thead>\n",
              "  <tbody>\n",
              "    <tr>\n",
              "      <th>0</th>\n",
              "      <td>1</td>\n",
              "      <td>Spooky's Jump Scare Mansion</td>\n",
              "      <td>2016.0</td>\n",
              "      <td>I'm scared and hearing creepy voices.  So I'll...</td>\n",
              "      <td>1</td>\n",
              "    </tr>\n",
              "    <tr>\n",
              "      <th>1</th>\n",
              "      <td>2</td>\n",
              "      <td>Spooky's Jump Scare Mansion</td>\n",
              "      <td>2016.0</td>\n",
              "      <td>Best game, more better than Sam Pepper's YouTu...</td>\n",
              "      <td>1</td>\n",
              "    </tr>\n",
              "    <tr>\n",
              "      <th>2</th>\n",
              "      <td>3</td>\n",
              "      <td>Spooky's Jump Scare Mansion</td>\n",
              "      <td>2016.0</td>\n",
              "      <td>A littly iffy on the controls, but once you kn...</td>\n",
              "      <td>1</td>\n",
              "    </tr>\n",
              "    <tr>\n",
              "      <th>3</th>\n",
              "      <td>4</td>\n",
              "      <td>Spooky's Jump Scare Mansion</td>\n",
              "      <td>2015.0</td>\n",
              "      <td>Great game, fun and colorful and all that.A si...</td>\n",
              "      <td>1</td>\n",
              "    </tr>\n",
              "    <tr>\n",
              "      <th>4</th>\n",
              "      <td>5</td>\n",
              "      <td>Spooky's Jump Scare Mansion</td>\n",
              "      <td>2015.0</td>\n",
              "      <td>Not many games have the cute tag right next to...</td>\n",
              "      <td>1</td>\n",
              "    </tr>\n",
              "  </tbody>\n",
              "</table>\n",
              "</div>"
            ],
            "text/plain": [
              "   review_id                        title    year  \\\n",
              "0          1  Spooky's Jump Scare Mansion  2016.0   \n",
              "1          2  Spooky's Jump Scare Mansion  2016.0   \n",
              "2          3  Spooky's Jump Scare Mansion  2016.0   \n",
              "3          4  Spooky's Jump Scare Mansion  2015.0   \n",
              "4          5  Spooky's Jump Scare Mansion  2015.0   \n",
              "\n",
              "                                         user_review  user_suggestion  \n",
              "0  I'm scared and hearing creepy voices.  So I'll...                1  \n",
              "1  Best game, more better than Sam Pepper's YouTu...                1  \n",
              "2  A littly iffy on the controls, but once you kn...                1  \n",
              "3  Great game, fun and colorful and all that.A si...                1  \n",
              "4  Not many games have the cute tag right next to...                1  "
            ]
          },
          "metadata": {
            "tags": []
          },
          "execution_count": 4
        }
      ]
    },
    {
      "cell_type": "code",
      "metadata": {
        "colab_type": "code",
        "id": "qvfxjRWbkgms",
        "outputId": "2d470bb0-188e-4c10-f5a6-81cd22b23af0",
        "colab": {
          "base_uri": "https://localhost:8080/",
          "height": 307
        }
      },
      "source": [
        "train['year'].value_counts(normalize=True).plot(kind='bar')"
      ],
      "execution_count": 0,
      "outputs": [
        {
          "output_type": "execute_result",
          "data": {
            "text/plain": [
              "<matplotlib.axes._subplots.AxesSubplot at 0x2d989a92390>"
            ]
          },
          "metadata": {
            "tags": []
          },
          "execution_count": 5
        },
        {
          "output_type": "display_data",
          "data": {
            "image/png": "[encoded data removed]",
            "text/plain": [
              "<Figure size 432x288 with 1 Axes>"
            ]
          },
          "metadata": {
            "tags": [],
            "needs_background": "light"
          }
        }
      ]
    },
    {
      "cell_type": "code",
      "metadata": {
        "colab_type": "code",
        "id": "xBlFsjMekOMw",
        "outputId": "29749489-6e92-40b1-cc1f-c30cbac4ed84",
        "colab": {
          "base_uri": "https://localhost:8080/",
          "height": 279
        }
      },
      "source": [
        "train['user_suggestion'].value_counts(normalize=True).plot(kind='bar')"
      ],
      "execution_count": 0,
      "outputs": [
        {
          "output_type": "execute_result",
          "data": {
            "text/plain": [
              "<matplotlib.axes._subplots.AxesSubplot at 0x2d989b48320>"
            ]
          },
          "metadata": {
            "tags": []
          },
          "execution_count": 6
        },
        {
          "output_type": "display_data",
          "data": {
            "image/png": "[encoded data removed]",
            "text/plain": [
              "<Figure size 432x288 with 1 Axes>"
            ]
          },
          "metadata": {
            "tags": [],
            "needs_background": "light"
          }
        }
      ]
    },
    {
      "cell_type": "markdown",
      "metadata": {
        "colab_type": "text",
        "id": "nTAtD1vnjP1I"
      },
      "source": [
        "From the columns it is explicit that review id is unique for each post,\n",
        "title of the game to be used as foreign key between the two tables, data set has 60% of negative class and 40% of positive class. Data comprises of review of the games released in this decade (2011-2018), having most of the reviews about the game in 2018,2016 and 2017\n"
      ]
    },
    {
      "cell_type": "code",
      "metadata": {
        "colab_type": "code",
        "id": "frQp2rVaos8o",
        "outputId": "25a40113-301d-4b86-d475-0f7ac7a6e27f",
        "colab": {
          "base_uri": "https://localhost:8080/",
          "height": 67
        }
      },
      "source": [
        "train['user_suggestion'].value_counts()"
      ],
      "execution_count": 0,
      "outputs": [
        {
          "output_type": "execute_result",
          "data": {
            "text/plain": [
              "1    9968\n",
              "0    7526\n",
              "Name: user_suggestion, dtype: int64"
            ]
          },
          "metadata": {
            "tags": []
          },
          "execution_count": 7
        }
      ]
    },
    {
      "cell_type": "code",
      "metadata": {
        "colab_type": "code",
        "id": "jwkkfWlzoRoc",
        "outputId": "8ac44d32-debb-4403-dce6-982d29746fde",
        "colab": {
          "base_uri": "https://localhost:8080/",
          "height": 118
        }
      },
      "source": [
        "train[train['user_suggestion']==0]['title'].value_counts(normalize=True).head(5)"
      ],
      "execution_count": 0,
      "outputs": [
        {
          "output_type": "execute_result",
          "data": {
            "text/plain": [
              "Robocraft                 0.105501\n",
              "Heroes & Generals         0.088095\n",
              "War Thunder               0.079458\n",
              "Bless Online              0.074542\n",
              "Infestation: The New Z    0.046505\n",
              "Name: title, dtype: float64"
            ]
          },
          "metadata": {
            "tags": []
          },
          "execution_count": 8
        }
      ]
    },
    {
      "cell_type": "code",
      "metadata": {
        "colab_type": "code",
        "id": "hNGcYKrwoaNR",
        "outputId": "8fad961b-a065-4b1c-e833-364afb82e2f3",
        "colab": {
          "base_uri": "https://localhost:8080/",
          "height": 118
        }
      },
      "source": [
        "train[train['user_suggestion']==1]['title'].value_counts().head(5)"
      ],
      "execution_count": 0,
      "outputs": [
        {
          "output_type": "execute_result",
          "data": {
            "text/plain": [
              "Fractured Space      688\n",
              "Eternal Card Game    495\n",
              "Creativerse          443\n",
              "PlanetSide 2         423\n",
              "Path of Exile        415\n",
              "Name: title, dtype: int64"
            ]
          },
          "metadata": {
            "tags": []
          },
          "execution_count": 9
        }
      ]
    },
    {
      "cell_type": "code",
      "metadata": {
        "id": "OhBjZ1xFLZnF",
        "colab_type": "code",
        "colab": {}
      },
      "source": [
        "mylist = []\n",
        "for tag in game['tags']:\n",
        "    mylist.extend(tag)\n",
        "\n",
        "mylist = [x.lower().strip() for x in mylist]\n",
        "\n",
        "uniquevalues = list(set(mylist))"
      ],
      "execution_count": 0,
      "outputs": []
    },
    {
      "cell_type": "code",
      "metadata": {
        "colab_type": "code",
        "id": "qL1TvgItinHn",
        "colab": {}
      },
      "source": [
        "def remove_non_ascii(words):\n",
        "    \"\"\"Remove non-ASCII characters from list of tokenized words\"\"\"\n",
        "    new_words = []\n",
        "    for word in words:\n",
        "        new_word = unicodedata.normalize('NFKD', word).encode('ascii', 'ignore').decode('utf-8', 'ignore')\n",
        "        new_words.append(new_word)\n",
        "    return new_words\n",
        "\n",
        "def to_lowercase(words):\n",
        "    \"\"\"Convert all characters to lowercase from list of tokenized words\"\"\"\n",
        "    new_words = []\n",
        "    for word in words:\n",
        "        new_word = word.lower()\n",
        "        new_words.append(new_word)\n",
        "    return new_words\n",
        "\n",
        "def remove_punctuation(words):\n",
        "    \"\"\"Remove punctuation from list of tokenized words\"\"\"\n",
        "    new_words = []\n",
        "    for word in words:\n",
        "        new_word = re.sub(r'[^\\w\\s]', '', word)\n",
        "        new_word = re.sub(r'(.)\\1+', r'\\1\\1', new_word) \n",
        "        if new_word != '':\n",
        "            new_words.append(new_word)\n",
        "    return new_words\n",
        "\n",
        "def remove_stopwords(words):\n",
        "    \"\"\"Remove stop words from list of tokenized words\"\"\"\n",
        "    new_words = []\n",
        "    stop_words = []\n",
        "    stop_words.append(stopwords.words('english'))\n",
        "    stop_words.append(uniquevalues)\n",
        "    for word in words:\n",
        "        if(word not in stop_words):\n",
        "            new_words.append(word)\n",
        "    return new_words\n",
        "\n",
        "def lemmatize_verbs(words):\n",
        "    \"\"\"Lemmatize verbs in list of tokenized words\"\"\"\n",
        "    lemmatizer = WordNetLemmatizer()\n",
        "    lemmas = []\n",
        "    for word in words:\n",
        "        lemma = lemmatizer.lemmatize(word, pos='v')\n",
        "        lemmas.append(lemma)\n",
        "    return lemmas\n",
        "\n",
        "# def replace_contractions(text):\n",
        "#     \"\"\"Replace contractions in string of text\"\"\"\n",
        "#     return contractions.fix(text)\n"
      ],
      "execution_count": 0,
      "outputs": []
    },
    {
      "cell_type": "code",
      "metadata": {
        "colab_type": "code",
        "id": "HehL62WssUOw",
        "colab": {}
      },
      "source": [
        "def preprocess(text):\n",
        "    # text = replace_contractions(text)\n",
        "    content = nltk.word_tokenize(text)\n",
        "    words = remove_non_ascii(content)\n",
        "    words = to_lowercase(words)\n",
        "    words = lemmatize_verbs(words)\n",
        "    words = remove_punctuation(words)\n",
        "    # words = remove_stopwords(words)\n",
        "    # text= ' '.join(list(dict.fromkeys(words)))\n",
        "    text = ' '.join(words)\n",
        "    return text\n",
        "\n",
        "def preprocess2(text):\n",
        "    # text = replace_contractions(text)    \n",
        "    content = nltk.word_tokenize(text)\n",
        "    words = remove_non_ascii(content)\n",
        "    words = to_lowercase(words)\n",
        "    words = remove_stopwords(words)\n",
        "    words = lemmatize_verbs(words)\n",
        "    words = remove_punctuation(words)\n",
        "    \n",
        "    # text= ' '.join(list(dict.fromkeys(words)))\n",
        "    text = ' '.join(words)\n",
        "    return text\n",
        "\n",
        "def join_tags(words):\n",
        "    text = ''.join(words)\n",
        "    return text\n"
      ],
      "execution_count": 0,
      "outputs": []
    },
    {
      "cell_type": "code",
      "metadata": {
        "colab_type": "code",
        "id": "eeIPTGLusdX8",
        "colab": {}
      },
      "source": [
        "train['title'] = train['title'].apply(preprocess)\n",
        "game['title'] = game['title'].apply(preprocess)\n",
        "test['title'] = test['title'].apply(preprocess)\n",
        "\n",
        "game['tags'] = game['tags'].apply(preprocess)\n",
        "game['overview'] = game['overview'].apply(preprocess)"
      ],
      "execution_count": 0,
      "outputs": []
    },
    {
      "cell_type": "code",
      "metadata": {
        "colab_type": "code",
        "id": "rJfA9HGi2Wz3",
        "colab": {}
      },
      "source": [
        "train['new_user_review'] = train['user_review'].apply(preprocess2)\n",
        "test['new_user_review'] = test['user_review'].apply(preprocess2)"
      ],
      "execution_count": 0,
      "outputs": []
    },
    {
      "cell_type": "code",
      "metadata": {
        "id": "4nC7LFw_LZoT",
        "colab_type": "code",
        "outputId": "5a2a291e-e6a8-4600-ab07-d35c2c631b05",
        "colab": {}
      },
      "source": [
        "test.shape"
      ],
      "execution_count": 0,
      "outputs": [
        {
          "output_type": "execute_result",
          "data": {
            "text/plain": [
              "(8045, 5)"
            ]
          },
          "metadata": {
            "tags": []
          },
          "execution_count": 15
        }
      ]
    },
    {
      "cell_type": "code",
      "metadata": {
        "colab_type": "code",
        "id": "7B4l-IALI3Yi",
        "colab": {}
      },
      "source": [
        "train['new_user_review'].replace({'':np.nan}, inplace=True)\n",
        "train = train[~train['new_user_review'].isna()]"
      ],
      "execution_count": 0,
      "outputs": []
    },
    {
      "cell_type": "code",
      "metadata": {
        "colab_type": "code",
        "id": "3ObbpsxdXftT",
        "colab": {}
      },
      "source": [
        "# to remove the reviews when the no of words is equivalent to 1\n",
        "train['no_of_words'] = train['new_user_review'].apply(lambda x: len(x.split()))\n",
        "test['no_of_words'] = test['new_user_review'].apply(lambda x: len(x.split()))"
      ],
      "execution_count": 0,
      "outputs": []
    },
    {
      "cell_type": "code",
      "metadata": {
        "colab_type": "code",
        "id": "Mt3zFQPOBHjw",
        "colab": {}
      },
      "source": [
        "train['year'] = train.groupby(['title'])['year'].fillna(method='ffill').fillna(method='bfill')"
      ],
      "execution_count": 0,
      "outputs": []
    },
    {
      "cell_type": "code",
      "metadata": {
        "id": "YUD94FbQLZpK",
        "colab_type": "code",
        "outputId": "eb46d2e5-d329-440d-8ea5-237a355c64ce",
        "colab": {}
      },
      "source": [
        "test.shape"
      ],
      "execution_count": 0,
      "outputs": [
        {
          "output_type": "execute_result",
          "data": {
            "text/plain": [
              "(8045, 6)"
            ]
          },
          "metadata": {
            "tags": []
          },
          "execution_count": 19
        }
      ]
    },
    {
      "cell_type": "markdown",
      "metadata": {
        "colab_type": "text",
        "id": "uhOLukOeF6hn"
      },
      "source": [
        "maximum length of reviews is 1600 and we can clearly see that most of the posts are short in length"
      ]
    },
    {
      "cell_type": "markdown",
      "metadata": {
        "colab_type": "text",
        "id": "lEWFrsl9Bq34"
      },
      "source": [
        "## Wordcloud just to observe which is the most frequent word"
      ]
    },
    {
      "cell_type": "code",
      "metadata": {
        "colab_type": "code",
        "id": "RiPRvuhc2EoN",
        "colab": {}
      },
      "source": [
        "def plot_wordcloud(train, sent, col):\n",
        "    reviews = train[train['user_suggestion']==sent][col].str.cat(sep=' ')\n",
        "    #function to split text into word\n",
        "    tokens = word_tokenize(reviews)\n",
        "    vocabulary = set(tokens)\n",
        "    frequency_dist = nltk.FreqDist(tokens)\n",
        "    wordcloud = WordCloud().generate_from_frequencies(frequency_dist)\n",
        "    plt.imshow(wordcloud)\n",
        "    plt.axis(\"off\")\n",
        "    plt.show()"
      ],
      "execution_count": 0,
      "outputs": []
    },
    {
      "cell_type": "markdown",
      "metadata": {
        "colab_type": "text",
        "id": "jwV3I9J_7V8r"
      },
      "source": [
        "wordcloud of the positive reviews"
      ]
    },
    {
      "cell_type": "code",
      "metadata": {
        "colab_type": "code",
        "id": "SdBY8b_Mz7Tr",
        "outputId": "d1e8ff3c-d738-475b-c1a0-3c7cbae61ff1",
        "colab": {
          "base_uri": "https://localhost:8080/",
          "height": 198
        }
      },
      "source": [
        "plot_wordcloud(train, 0, 'new_user_review')"
      ],
      "execution_count": 0,
      "outputs": [
        {
          "output_type": "display_data",
          "data": {
            "image/png": "[encoded data removed]",
            "text/plain": [
              "<Figure size 432x288 with 1 Axes>"
            ]
          },
          "metadata": {
            "tags": [],
            "needs_background": "light"
          }
        }
      ]
    },
    {
      "cell_type": "markdown",
      "metadata": {
        "colab_type": "text",
        "id": "iT_Z_jEB7ZD5"
      },
      "source": [
        "word cloud of negative reviews"
      ]
    },
    {
      "cell_type": "code",
      "metadata": {
        "colab_type": "code",
        "id": "KczB7ifn7bsu",
        "outputId": "2ba0435e-6c5d-41f1-d0c7-2f07eaed8ba7",
        "colab": {
          "base_uri": "https://localhost:8080/",
          "height": 198
        }
      },
      "source": [
        "plot_wordcloud(train, 1, 'new_user_review')"
      ],
      "execution_count": 0,
      "outputs": [
        {
          "output_type": "display_data",
          "data": {
            "image/png": "[encoded data removed]",
            "text/plain": [
              "<Figure size 432x288 with 1 Axes>"
            ]
          },
          "metadata": {
            "tags": [],
            "needs_background": "light"
          }
        }
      ]
    },
    {
      "cell_type": "markdown",
      "metadata": {
        "colab_type": "text",
        "id": "pEoHfcN-txKb"
      },
      "source": [
        "## Merging the train and test with game information"
      ]
    },
    {
      "cell_type": "code",
      "metadata": {
        "colab_type": "code",
        "id": "XYS3Wcn_3iTt",
        "colab": {}
      },
      "source": [
        "train_df = pd.merge(train, game, left_on = ['title'], right_on= ['title'])\n",
        "test_df = pd.merge(test, game, on=['title'], how='inner')"
      ],
      "execution_count": 0,
      "outputs": []
    },
    {
      "cell_type": "code",
      "metadata": {
        "colab_type": "code",
        "id": "ac-Ia2EmqQ4z",
        "outputId": "5940117e-21d8-42f4-b6ef-2f07ef99f237",
        "colab": {
          "base_uri": "https://localhost:8080/",
          "height": 34
        }
      },
      "source": [
        "test_df.shape"
      ],
      "execution_count": 0,
      "outputs": [
        {
          "output_type": "execute_result",
          "data": {
            "text/plain": [
              "(8045, 10)"
            ]
          },
          "metadata": {
            "tags": []
          },
          "execution_count": 24
        }
      ]
    },
    {
      "cell_type": "code",
      "metadata": {
        "colab_type": "code",
        "id": "-ivOsztDw30u",
        "colab": {}
      },
      "source": [
        "from sklearn.model_selection import train_test_split\n",
        "from sklearn import preprocessing\n",
        "x_train, x_valid, y_train, y_valid = train_test_split(train_df, train_df['user_suggestion'], \n",
        "                                                      random_state=0,test_size=0.15, stratify=train_df['user_suggestion'])"
      ],
      "execution_count": 0,
      "outputs": []
    },
    {
      "cell_type": "markdown",
      "metadata": {
        "colab_type": "text",
        "id": "WCud2-W1-lxy"
      },
      "source": [
        "### Probability of positive response for the particular game"
      ]
    },
    {
      "cell_type": "code",
      "metadata": {
        "colab_type": "code",
        "id": "6lpU9Y_L-5vu",
        "outputId": "15ab749b-4d47-4dee-ca5c-8f375433b49d",
        "colab": {
          "base_uri": "https://localhost:8080/",
          "height": 84
        }
      },
      "source": [
        "x_train.columns"
      ],
      "execution_count": 0,
      "outputs": [
        {
          "output_type": "execute_result",
          "data": {
            "text/plain": [
              "Index(['review_id', 'title', 'year', 'user_review', 'user_suggestion',\n",
              "       'new_user_review', 'no_of_words', 'developer', 'publisher', 'tags',\n",
              "       'overview'],\n",
              "      dtype='object')"
            ]
          },
          "metadata": {
            "tags": []
          },
          "execution_count": 26
        }
      ]
    },
    {
      "cell_type": "code",
      "metadata": {
        "colab_type": "code",
        "id": "MfR6ZnYJt2R7",
        "colab": {}
      },
      "source": [
        "probability = x_train.groupby(['title','user_suggestion']).agg({'new_user_review':'count'}).reset_index()"
      ],
      "execution_count": 0,
      "outputs": []
    },
    {
      "cell_type": "code",
      "metadata": {
        "colab_type": "code",
        "id": "wF_PlAcIukoy",
        "colab": {}
      },
      "source": [
        "probability['total_reviews'] = probability.groupby(['title'])['new_user_review'].transform('sum')"
      ],
      "execution_count": 0,
      "outputs": []
    },
    {
      "cell_type": "code",
      "metadata": {
        "colab_type": "code",
        "id": "9_ROuVdfuwlk",
        "colab": {}
      },
      "source": [
        "probability2 = pd.pivot_table(probability, index=['title','total_reviews'], columns=['user_suggestion'], values=['new_user_review']).reset_index()"
      ],
      "execution_count": 0,
      "outputs": []
    },
    {
      "cell_type": "code",
      "metadata": {
        "colab_type": "code",
        "id": "bNpYyFn0wwpw",
        "colab": {}
      },
      "source": [
        "probability2.columns = ['title','total_reviews','probab_rec','probab_no_rec']"
      ],
      "execution_count": 0,
      "outputs": []
    },
    {
      "cell_type": "code",
      "metadata": {
        "colab_type": "code",
        "id": "FDUxKQiLxPNi",
        "colab": {}
      },
      "source": [
        "probability2['probab_no_rec'] = probability2['probab_no_rec']/probability2['total_reviews']\n",
        "probability2['probab_rec'] = probability2['probab_rec']/probability2['total_reviews']"
      ],
      "execution_count": 0,
      "outputs": []
    },
    {
      "cell_type": "code",
      "metadata": {
        "colab_type": "code",
        "id": "EQ9yUhe4xkDD",
        "colab": {}
      },
      "source": [
        "train_df['is_train'] = 1\n",
        "test_df['is_train'] = 0"
      ],
      "execution_count": 0,
      "outputs": []
    },
    {
      "cell_type": "code",
      "metadata": {
        "id": "imGT7yMGLZsW",
        "colab_type": "code",
        "outputId": "bbe69adb-ac7c-46cb-9e24-01f602e2878b",
        "colab": {}
      },
      "source": [
        "test_df.shape"
      ],
      "execution_count": 0,
      "outputs": [
        {
          "output_type": "execute_result",
          "data": {
            "text/plain": [
              "(8045, 11)"
            ]
          },
          "metadata": {
            "tags": []
          },
          "execution_count": 33
        }
      ]
    },
    {
      "cell_type": "code",
      "metadata": {
        "colab_type": "code",
        "id": "OHjlSh8uyXjs",
        "outputId": "e633e97f-a070-464d-bd28-339b89f6f9c1",
        "colab": {}
      },
      "source": [
        "df = pd.concat([train_df, test_df], axis=0)"
      ],
      "execution_count": 0,
      "outputs": [
        {
          "output_type": "stream",
          "text": [
            "C:\\Users\\mohan\\AppData\\Local\\Continuum\\anaconda2\\envs\\python36\\lib\\site-packages\\ipykernel_launcher.py:1: FutureWarning: Sorting because non-concatenation axis is not aligned. A future version\n",
            "of pandas will change to not sort by default.\n",
            "\n",
            "To accept the future behavior, pass 'sort=False'.\n",
            "\n",
            "To retain the current behavior and silence the warning, pass 'sort=True'.\n",
            "\n",
            "  \"\"\"Entry point for launching an IPython kernel.\n"
          ],
          "name": "stderr"
        }
      ]
    },
    {
      "cell_type": "code",
      "metadata": {
        "colab_type": "code",
        "id": "62dF1TTO_g4-",
        "outputId": "c4ab8cc3-c845-416b-cf2a-f3aabe448869",
        "colab": {
          "base_uri": "https://localhost:8080/",
          "height": 34
        }
      },
      "source": [
        "df.shape"
      ],
      "execution_count": 0,
      "outputs": [
        {
          "output_type": "execute_result",
          "data": {
            "text/plain": [
              "(25517, 12)"
            ]
          },
          "metadata": {
            "tags": []
          },
          "execution_count": 35
        }
      ]
    },
    {
      "cell_type": "code",
      "metadata": {
        "id": "4f0MQcUQLZs9",
        "colab_type": "code",
        "outputId": "bfada308-8426-482c-94c4-22a3a6ce7069",
        "colab": {}
      },
      "source": [
        "df[df['is_train'] == 0].shape"
      ],
      "execution_count": 0,
      "outputs": [
        {
          "output_type": "execute_result",
          "data": {
            "text/plain": [
              "(8045, 12)"
            ]
          },
          "metadata": {
            "tags": []
          },
          "execution_count": 36
        }
      ]
    },
    {
      "cell_type": "code",
      "metadata": {
        "colab_type": "code",
        "id": "-erJ2JhV7-_6",
        "colab": {}
      },
      "source": [
        "df = pd.merge(df, probability2[['probab_rec','probab_no_rec','title']], on='title', how='left')"
      ],
      "execution_count": 0,
      "outputs": []
    },
    {
      "cell_type": "code",
      "metadata": {
        "id": "JtNEF6NILZtd",
        "colab_type": "code",
        "outputId": "091b9219-63fb-493c-85ec-b75d3b70e745",
        "colab": {}
      },
      "source": [
        "df.shape"
      ],
      "execution_count": 0,
      "outputs": [
        {
          "output_type": "execute_result",
          "data": {
            "text/plain": [
              "(25517, 14)"
            ]
          },
          "metadata": {
            "tags": []
          },
          "execution_count": 38
        }
      ]
    },
    {
      "cell_type": "markdown",
      "metadata": {
        "colab_type": "text",
        "id": "87Jj2Cea-5ry"
      },
      "source": [
        "### probability of response based on the year"
      ]
    },
    {
      "cell_type": "code",
      "metadata": {
        "colab_type": "code",
        "id": "eGuwzcX-yfBt",
        "colab": {}
      },
      "source": [
        "probability = x_train.groupby(['user_suggestion','year']).agg({'new_user_review':'count'}).reset_index()\n",
        "probability['total_review'] = probability.groupby(['year'])['new_user_review'].transform('sum')"
      ],
      "execution_count": 0,
      "outputs": []
    },
    {
      "cell_type": "code",
      "metadata": {
        "colab_type": "code",
        "id": "7Sg4OcHt1CTl",
        "colab": {}
      },
      "source": [
        "probability2 = pd.pivot_table(probability, index=['year','total_review'], values='new_user_review', columns='user_suggestion').reset_index()"
      ],
      "execution_count": 0,
      "outputs": []
    },
    {
      "cell_type": "code",
      "metadata": {
        "colab_type": "code",
        "id": "rUEHuH3a5vqw",
        "colab": {}
      },
      "source": [
        "probability2.columns = ['year','total_reviews','year_rec','year_no_rec']"
      ],
      "execution_count": 0,
      "outputs": []
    },
    {
      "cell_type": "code",
      "metadata": {
        "colab_type": "code",
        "id": "Gtuxr1xY-Qs0",
        "colab": {}
      },
      "source": [
        "probability2['year_rec'] = probability2['year_rec']/probability2['total_reviews']\n",
        "probability2['year_no_rec'] = probability2['year_no_rec']/probability2['total_reviews']"
      ],
      "execution_count": 0,
      "outputs": []
    },
    {
      "cell_type": "code",
      "metadata": {
        "colab_type": "code",
        "id": "siGdRQ5P85az",
        "colab": {}
      },
      "source": [
        "df = pd.merge(df, probability2[['year_rec','year_no_rec','year']], on='year',how='left')"
      ],
      "execution_count": 0,
      "outputs": []
    },
    {
      "cell_type": "code",
      "metadata": {
        "id": "pVP9XqziLZuo",
        "colab_type": "code",
        "outputId": "6a1f7220-ba3e-4197-b08e-3fcc8f1ab9e1",
        "colab": {}
      },
      "source": [
        "df.shape"
      ],
      "execution_count": 0,
      "outputs": [
        {
          "output_type": "execute_result",
          "data": {
            "text/plain": [
              "(25517, 16)"
            ]
          },
          "metadata": {
            "tags": []
          },
          "execution_count": 44
        }
      ]
    },
    {
      "cell_type": "markdown",
      "metadata": {
        "colab_type": "text",
        "id": "ApRg7C8_BYRh"
      },
      "source": [
        "### Additional features based on the user review"
      ]
    },
    {
      "cell_type": "code",
      "metadata": {
        "colab_type": "code",
        "id": "gffCw17hB30U",
        "colab": {}
      },
      "source": [
        "# creating the python dictionary to hold the lexicons\n",
        "import collections\n",
        "import csv\n",
        "lexicon = collections.defaultdict(list)\n",
        "\n",
        "with open('new_lexicon.csv', 'r') as csvFile:\n",
        "    reader = csv.reader(csvFile)\n",
        "    for row in reader:\n",
        "        lexicon[row[0]].append(int(row[1]))\n",
        "        lexicon[row[0]].append(row[2])\n",
        "csvFile.close()   "
      ],
      "execution_count": 0,
      "outputs": []
    },
    {
      "cell_type": "code",
      "metadata": {
        "colab_type": "code",
        "id": "64wIMHrIBbIr",
        "colab": {}
      },
      "source": [
        "#number of negative words in a tweet\n",
        "def neg_word_count(tweet):\n",
        "    count = 0\n",
        "    for i in tweet.split():\n",
        "        #print(i)\n",
        "        if i in lexicon:\n",
        "            #print(i)\n",
        "            try: \n",
        "                score = lexicon[i][0]\n",
        "                #print('score',score)\n",
        "                if score == -1:\n",
        "                    count+=1            \n",
        "            except: pass\n",
        "    return count\n",
        "\n",
        "\n",
        "#no of positive words in a tweet\n",
        "def pos_word_count(tweet):\n",
        "    count = 0\n",
        "    for i in tweet.split():\n",
        "        #print(i)\n",
        "        if i in lexicon:\n",
        "            #print(i)\n",
        "            try: \n",
        "                score = lexicon[i][0]\n",
        "                #print('score',score)\n",
        "                if score == 1:\n",
        "                    count+=1            \n",
        "            except: pass\n",
        "    return count\n",
        "\n",
        "#overall score of the tweet\n",
        "def overall_score(tweet):\n",
        "    score = 0\n",
        "    for i in tweet.split():\n",
        "        if i in lexicon:\n",
        "            try:\n",
        "                a = lexicon[i][0]\n",
        "                score += a\n",
        "            except: \n",
        "                pass\n",
        "    return score\n",
        "\n",
        "#last token polarity\n",
        "def las_pol(tweet):\n",
        "    # print(tweet)\n",
        "    tweet = tweet.split()\n",
        "    l_word = tweet[-1]\n",
        "    score = 0\n",
        "    if l_word in lexicon:\n",
        "        a = lexicon[l_word][0]\n",
        "        #print(a)\n",
        "        score = a\n",
        "        #print(score)\n",
        "    return score\n",
        "\n",
        "#number of adjectives, adverbs and verbs in a tweet\n",
        "def pos_POStag_count(tweet):\n",
        "    count = 0\n",
        "    l = ['adj','adverb','verb']\n",
        "    for i in tweet.split():\n",
        "        if i in lexicon:\n",
        "            #print(i)\n",
        "            try:\n",
        "                pos_tag = lexicon[i][1]\n",
        "                if pos_tag in l:\n",
        "                    #print(lexicon[i])\n",
        "                    if lexicon[i][0] == 1:\n",
        "                        count+=1\n",
        "\n",
        "            except: \n",
        "                pass\n",
        "    return count  \n",
        "\n",
        "#number of adjectives, adverbs and verbs in a tweet\n",
        "def neg_POStag_count(tweet):\n",
        "    count = 0\n",
        "    l = ['adj','adverb','verb']\n",
        "    for i in tweet.split():\n",
        "        if i in lexicon:\n",
        "            #print(i)\n",
        "            try:\n",
        "                pos_tag = lexicon[i][1]\n",
        "                if pos_tag in l:\n",
        "                    #print(lexicon[i])\n",
        "                    if lexicon[i][0] == -1:\n",
        "                        count+=1\n",
        "\n",
        "            except: \n",
        "                pass\n",
        "    return count  "
      ],
      "execution_count": 0,
      "outputs": []
    },
    {
      "cell_type": "code",
      "metadata": {
        "colab_type": "code",
        "id": "vUP9A_LFAKpW",
        "colab": {}
      },
      "source": [
        "df['new_user_review'].replace({'':'good bad'}, inplace=True)\n",
        "#df = df[~df['new_user_review'].isna()]"
      ],
      "execution_count": 0,
      "outputs": []
    },
    {
      "cell_type": "code",
      "metadata": {
        "id": "tndBl2KVLZvL",
        "colab_type": "code",
        "outputId": "fbda6a1d-0f31-40b5-9383-06e3b79fb6de",
        "colab": {}
      },
      "source": [
        "df.shape"
      ],
      "execution_count": 0,
      "outputs": [
        {
          "output_type": "execute_result",
          "data": {
            "text/plain": [
              "(25517, 16)"
            ]
          },
          "metadata": {
            "tags": []
          },
          "execution_count": 48
        }
      ]
    },
    {
      "cell_type": "code",
      "metadata": {
        "colab_type": "code",
        "id": "sANgBvVaBpe8",
        "colab": {}
      },
      "source": [
        "df['last_word_polarity'] = df['new_user_review'].apply(las_pol)#run this after preprocessing\n",
        "#number of pos tagging do after preprocessing of the tweets\n",
        "df['pos_POStag_count'] = df['new_user_review'].apply(pos_POStag_count)\n",
        "df['neg_POStag_count'] = df['new_user_review'].apply(neg_POStag_count)\n",
        "df['neg_count'] = df['new_user_review'].apply(neg_word_count)\n",
        "#number of positive word count\n",
        "df['pos_count']= df['new_user_review'].apply(pos_word_count)\n",
        "df['overall_score'] = df['new_user_review'].apply(overall_score)"
      ],
      "execution_count": 0,
      "outputs": []
    },
    {
      "cell_type": "code",
      "metadata": {
        "colab_type": "code",
        "id": "5ghXYmm_JLwm",
        "colab": {}
      },
      "source": [
        "train_df = df[df['is_train']==1]\n",
        "test_df = df[df['is_train']==0]"
      ],
      "execution_count": 0,
      "outputs": []
    },
    {
      "cell_type": "code",
      "metadata": {
        "colab_type": "code",
        "id": "fATE6NS4_WXU",
        "outputId": "cdc1d05b-bce5-4c67-d898-48f068e6afe6",
        "colab": {
          "base_uri": "https://localhost:8080/",
          "height": 34
        }
      },
      "source": [
        "test_df.shape"
      ],
      "execution_count": 0,
      "outputs": [
        {
          "output_type": "execute_result",
          "data": {
            "text/plain": [
              "(8045, 22)"
            ]
          },
          "metadata": {
            "tags": []
          },
          "execution_count": 51
        }
      ]
    },
    {
      "cell_type": "markdown",
      "metadata": {
        "colab_type": "text",
        "id": "K1IyKGjDTUqa"
      },
      "source": [
        "## label encoding the developer and title"
      ]
    },
    {
      "cell_type": "code",
      "metadata": {
        "colab_type": "code",
        "id": "I6GaRCIyJrTM",
        "colab": {}
      },
      "source": [
        "from sklearn.preprocessing import LabelEncoder\n",
        "\n",
        "class LabelEncoderExt(object):\n",
        "    def __init__(self):\n",
        "        \"\"\"\n",
        "        It differs from LabelEncoder by handling new classes and providing a value for it [Unknown]\n",
        "        Unknown will be added in fit and transform will take care of new item. It gives unknown class id\n",
        "        \"\"\"\n",
        "        self.label_encoder = LabelEncoder()\n",
        "        # self.classes_ = self.label_encoder.classes_\n",
        "\n",
        "    def fit(self, data_list):\n",
        "        \"\"\"\n",
        "        This will fit the encoder for all the unique values and introduce unknown value\n",
        "        :param data_list: A list of string\n",
        "        :return: self\n",
        "        \"\"\"\n",
        "        self.label_encoder = self.label_encoder.fit(list(data_list) + ['Unknown'])\n",
        "        self.classes_ = self.label_encoder.classes_\n",
        "\n",
        "        return self\n",
        "\n",
        "    def transform(self, data_list):\n",
        "        \"\"\"\n",
        "        This will transform the data_list to id list where the new values get assigned to Unknown class\n",
        "        :param data_list:\n",
        "        :return:\n",
        "        \"\"\"\n",
        "        new_data_list = list(data_list)\n",
        "        for unique_item in np.unique(data_list):\n",
        "            if unique_item not in self.label_encoder.classes_:\n",
        "                new_data_list = ['Unknown' if x==unique_item else x for x in new_data_list]\n",
        "\n",
        "        return self.label_encoder.transform(new_data_list)\n"
      ],
      "execution_count": 0,
      "outputs": []
    },
    {
      "cell_type": "code",
      "metadata": {
        "colab_type": "code",
        "id": "9PCgLbfiTb-U",
        "outputId": "d0ae3df4-20b2-4262-bd00-c7d3c5c306f6",
        "colab": {
          "base_uri": "https://localhost:8080/",
          "height": 218
        }
      },
      "source": [
        "le = LabelEncoderExt()\n",
        "le.fit(train_df['developer'])\n",
        "train_df['developer'] = le.transform(train_df['developer'])\n",
        "test_df['developer'] = le.transform(test_df['developer'])"
      ],
      "execution_count": 0,
      "outputs": [
        {
          "output_type": "stream",
          "text": [
            "C:\\Users\\mohan\\AppData\\Local\\Continuum\\anaconda2\\envs\\python36\\lib\\site-packages\\ipykernel_launcher.py:3: SettingWithCopyWarning: \n",
            "A value is trying to be set on a copy of a slice from a DataFrame.\n",
            "Try using .loc[row_indexer,col_indexer] = value instead\n",
            "\n",
            "See the caveats in the documentation: http://pandas.pydata.org/pandas-docs/stable/indexing.html#indexing-view-versus-copy\n",
            "  This is separate from the ipykernel package so we can avoid doing imports until\n",
            "C:\\Users\\mohan\\AppData\\Local\\Continuum\\anaconda2\\envs\\python36\\lib\\site-packages\\ipykernel_launcher.py:4: SettingWithCopyWarning: \n",
            "A value is trying to be set on a copy of a slice from a DataFrame.\n",
            "Try using .loc[row_indexer,col_indexer] = value instead\n",
            "\n",
            "See the caveats in the documentation: http://pandas.pydata.org/pandas-docs/stable/indexing.html#indexing-view-versus-copy\n",
            "  after removing the cwd from sys.path.\n"
          ],
          "name": "stderr"
        }
      ]
    },
    {
      "cell_type": "code",
      "metadata": {
        "colab_type": "code",
        "id": "zcnnC-oSUFOs",
        "outputId": "0bae7b5a-28a7-4300-b842-9d22d615245d",
        "colab": {
          "base_uri": "https://localhost:8080/",
          "height": 218
        }
      },
      "source": [
        "le = LabelEncoderExt()\n",
        "le.fit(train_df['title'])\n",
        "train_df['title'] = le.transform(train_df['title'])\n",
        "test_df['title'] = le.transform(test_df['title'])"
      ],
      "execution_count": 0,
      "outputs": [
        {
          "output_type": "stream",
          "text": [
            "C:\\Users\\mohan\\AppData\\Local\\Continuum\\anaconda2\\envs\\python36\\lib\\site-packages\\ipykernel_launcher.py:3: SettingWithCopyWarning: \n",
            "A value is trying to be set on a copy of a slice from a DataFrame.\n",
            "Try using .loc[row_indexer,col_indexer] = value instead\n",
            "\n",
            "See the caveats in the documentation: http://pandas.pydata.org/pandas-docs/stable/indexing.html#indexing-view-versus-copy\n",
            "  This is separate from the ipykernel package so we can avoid doing imports until\n",
            "C:\\Users\\mohan\\AppData\\Local\\Continuum\\anaconda2\\envs\\python36\\lib\\site-packages\\ipykernel_launcher.py:4: SettingWithCopyWarning: \n",
            "A value is trying to be set on a copy of a slice from a DataFrame.\n",
            "Try using .loc[row_indexer,col_indexer] = value instead\n",
            "\n",
            "See the caveats in the documentation: http://pandas.pydata.org/pandas-docs/stable/indexing.html#indexing-view-versus-copy\n",
            "  after removing the cwd from sys.path.\n"
          ],
          "name": "stderr"
        }
      ]
    },
    {
      "cell_type": "code",
      "metadata": {
        "colab_type": "code",
        "id": "KAldxBRNUOOA",
        "outputId": "e008b1f0-3e9c-48cd-ece6-ffee30cd69b2",
        "colab": {
          "base_uri": "https://localhost:8080/",
          "height": 101
        }
      },
      "source": [
        "train_df.drop(['review_id','user_review','publisher','is_train'], axis=1, inplace=True)"
      ],
      "execution_count": 0,
      "outputs": [
        {
          "output_type": "stream",
          "text": [
            "C:\\Users\\mohan\\AppData\\Local\\Continuum\\anaconda2\\envs\\python36\\lib\\site-packages\\pandas\\core\\frame.py:3697: SettingWithCopyWarning: \n",
            "A value is trying to be set on a copy of a slice from a DataFrame\n",
            "\n",
            "See the caveats in the documentation: http://pandas.pydata.org/pandas-docs/stable/indexing.html#indexing-view-versus-copy\n",
            "  errors=errors)\n"
          ],
          "name": "stderr"
        }
      ]
    },
    {
      "cell_type": "markdown",
      "metadata": {
        "colab_type": "text",
        "id": "mmY1grHuUrrP"
      },
      "source": [
        "## creating PIPELINE with additional features"
      ]
    },
    {
      "cell_type": "code",
      "metadata": {
        "colab_type": "code",
        "id": "zvq6w4c6U7Ue",
        "outputId": "e03acd18-8d60-49a5-e159-ef23de9d55a9",
        "colab": {
          "base_uri": "https://localhost:8080/",
          "height": 101
        }
      },
      "source": [
        "train_df.columns"
      ],
      "execution_count": 0,
      "outputs": [
        {
          "output_type": "execute_result",
          "data": {
            "text/plain": [
              "Index(['developer', 'new_user_review', 'no_of_words', 'overview', 'tags',\n",
              "       'title', 'user_suggestion', 'year', 'probab_rec', 'probab_no_rec',\n",
              "       'year_rec', 'year_no_rec', 'last_word_polarity', 'pos_POStag_count',\n",
              "       'neg_POStag_count', 'neg_count', 'pos_count', 'overall_score'],\n",
              "      dtype='object')"
            ]
          },
          "metadata": {
            "tags": []
          },
          "execution_count": 56
        }
      ]
    },
    {
      "cell_type": "code",
      "metadata": {
        "colab_type": "code",
        "id": "vhBxI-3KUhy_",
        "colab": {}
      },
      "source": [
        "from sklearn.base import BaseEstimator, TransformerMixin\n",
        "\n",
        "class TextSelector(BaseEstimator, TransformerMixin):\n",
        "    \"\"\"\n",
        "    Transformer to select a single column from the data frame to perform additional transformations on\n",
        "    Use on text columns in the data\n",
        "    \"\"\"\n",
        "    def __init__(self, key):\n",
        "        self.key = key\n",
        "\n",
        "    def fit(self, X, y=None): # fit() doesn't do anything\n",
        "        return self\n",
        "\n",
        "    def transform(self, X):   # all the work is done here\n",
        "        return X[self.key]\n",
        "    \n",
        "class NumberSelector(BaseEstimator, TransformerMixin):\n",
        "    \"\"\"\n",
        "    Transformer to select a single column from the data frame to perform additional transformations on\n",
        "    Use on numeric columns in the data\n",
        "    \"\"\"\n",
        "    def __init__(self, key):\n",
        "        self.key = key\n",
        "\n",
        "    def fit(self, X, y=None):\n",
        "        return self\n",
        "\n",
        "    def transform(self, X):\n",
        "        return X[[self.key]]\n"
      ],
      "execution_count": 0,
      "outputs": []
    },
    {
      "cell_type": "code",
      "metadata": {
        "colab_type": "code",
        "id": "vGyorOiKU_q-",
        "colab": {}
      },
      "source": [
        "# 'title', 'year', 'user_suggestion', 'new_user_review', 'no_of_words',\n",
        "#        'developer', 'tags', 'overview', 'is_train', 'probab_rec',\n",
        "#        'probab_no_rec', 'year_rec', 'year_no_rec', 'last_word_polarity',\n",
        "#        'pos_POStag_count', 'neg_POStag_count', 'neg_count', 'pos_count',\n",
        "#        'overall_score'"
      ],
      "execution_count": 0,
      "outputs": []
    },
    {
      "cell_type": "code",
      "metadata": {
        "colab_type": "code",
        "id": "OuavljJUUvnf",
        "colab": {}
      },
      "source": [
        "from sklearn.pipeline import Pipeline\n",
        "from sklearn.feature_extraction.text import TfidfVectorizer\n",
        "from sklearn.preprocessing import MinMaxScaler\n",
        "\n",
        "review_tag = Pipeline([\n",
        "                ('selector', TextSelector(key='review_tag')),\n",
        "                ('tfidf', TfidfVectorizer(analyzer='word', token_pattern=r'\\w{1,}',ngram_range=(1,2)))\n",
        "            ])\n",
        "\n",
        "# tags = Pipeline([\n",
        "#                 ('selector', TextSelector(key='tags')),\n",
        "#                 ('tfidf', TfidfVectorizer(analyzer='word', token_pattern=r'\\w{1,}'))\n",
        "#             ])\n",
        "\n",
        "no_of_words =  Pipeline([\n",
        "                ('selector', NumberSelector(key='no_of_words')),\n",
        "                ('standard', MinMaxScaler())\n",
        "            ])\n",
        "\n",
        "year =  Pipeline([\n",
        "                ('selector', NumberSelector(key='year'))\n",
        "            ])\n",
        "developer =  Pipeline([\n",
        "                ('selector', NumberSelector(key='developer'))\n",
        "            ])\n",
        "title =  Pipeline([\n",
        "                ('selector', NumberSelector(key='title'))\n",
        "            ])\n",
        "\n",
        "probab_rec =  Pipeline([\n",
        "                ('selector', NumberSelector(key='probab_rec'))\n",
        "            ])\n",
        "\n",
        "probab_no_rec =  Pipeline([\n",
        "                ('selector', NumberSelector(key='probab_no_rec'))\n",
        "            ])\n",
        "\n",
        "year_rec =  Pipeline([\n",
        "                ('selector', NumberSelector(key='year_rec'))\n",
        "            ])\n",
        "\n",
        "year_no_rec =  Pipeline([\n",
        "                ('selector', NumberSelector(key='year_no_rec'))\n",
        "            ])\n",
        "\n",
        "pos_POStag_count =  Pipeline([\n",
        "                ('selector', NumberSelector(key='pos_POStag_count')),\n",
        "                ('standard', MinMaxScaler())\n",
        "            ])\n",
        "neg_POStag_count =  Pipeline([\n",
        "                ('selector', NumberSelector(key='neg_POStag_count')),\n",
        "                ('standard', MinMaxScaler())\n",
        "            ])\n",
        "\n",
        "neg_count =  Pipeline([\n",
        "                ('selector', NumberSelector(key='neg_count')),\n",
        "                ('standard', MinMaxScaler())\n",
        "            ])\n",
        "pos_count =  Pipeline([\n",
        "                ('selector', NumberSelector(key='pos_count')),\n",
        "                ('standard', MinMaxScaler())\n",
        "            ])\n",
        "overall_score =  Pipeline([\n",
        "                ('selector', NumberSelector(key='overall_score')),\n",
        "                ('standard', MinMaxScaler())\n",
        "            ])\n",
        "last_word_polarity =  Pipeline([\n",
        "                ('selector', NumberSelector(key='last_word_polarity')),\n",
        "                ('standard', MinMaxScaler())\n",
        "            ])"
      ],
      "execution_count": 0,
      "outputs": []
    },
    {
      "cell_type": "code",
      "metadata": {
        "colab_type": "code",
        "id": "qV_hMiYcXumu",
        "colab": {}
      },
      "source": [
        "from sklearn.pipeline import FeatureUnion\n",
        "\n",
        "feats = FeatureUnion([('review_tag', review_tag), \n",
        "                      # ('tags', tags),\n",
        "                      ('no_of_words', no_of_words),\n",
        "                      ('title',title),\n",
        "                      ('developer',developer),\n",
        "                      ('year',year),\n",
        "                      ('probab_rec',probab_rec),\n",
        "                      ('probab_no_rec',probab_no_rec),\n",
        "                      ('year_rec',year_rec),\n",
        "                      ('year_no_rec',year_no_rec),\n",
        "                      ('neg_count', neg_count),\n",
        "                      ('pos_count', pos_count),\n",
        "                      ('overall_score', overall_score),\n",
        "                      ('last_word_polarity', last_word_polarity),\n",
        "                      ('pos_POStag_count', pos_POStag_count),\n",
        "                      ('neg_POStag_count', neg_POStag_count)])\n",
        "\n",
        "feature_processing = Pipeline([('feats', feats)])"
      ],
      "execution_count": 0,
      "outputs": []
    },
    {
      "cell_type": "markdown",
      "metadata": {
        "colab_type": "text",
        "id": "HZgW9j8G_XoJ"
      },
      "source": [
        "### word cloud of the tags used in negative class\n"
      ]
    },
    {
      "cell_type": "code",
      "metadata": {
        "colab_type": "code",
        "id": "G5xNP0Bc72Ld",
        "outputId": "af695cf1-4c37-4367-9260-10e33202103a",
        "colab": {
          "base_uri": "https://localhost:8080/",
          "height": 198
        }
      },
      "source": [
        "plot_wordcloud(df, 1, 'tags')"
      ],
      "execution_count": 0,
      "outputs": [
        {
          "output_type": "display_data",
          "data": {
            "image/png": "[encoded data removed]",
            "text/plain": [
              "<Figure size 432x288 with 1 Axes>"
            ]
          },
          "metadata": {
            "tags": [],
            "needs_background": "light"
          }
        }
      ]
    },
    {
      "cell_type": "markdown",
      "metadata": {
        "colab_type": "text",
        "id": "sV0bCTmu_b8G"
      },
      "source": [
        "Tags used in positive review\n"
      ]
    },
    {
      "cell_type": "code",
      "metadata": {
        "colab_type": "code",
        "id": "WZrhMeJxrH0o",
        "outputId": "72785c14-9556-414c-b997-e2e34313088b",
        "colab": {
          "base_uri": "https://localhost:8080/",
          "height": 198
        }
      },
      "source": [
        "plot_wordcloud(df, 0, 'tags')"
      ],
      "execution_count": 0,
      "outputs": [
        {
          "output_type": "display_data",
          "data": {
            "image/png": "[encoded data removed]",
            "text/plain": [
              "<Figure size 432x288 with 1 Axes>"
            ]
          },
          "metadata": {
            "tags": [],
            "needs_background": "light"
          }
        }
      ]
    },
    {
      "cell_type": "markdown",
      "metadata": {
        "colab_type": "text",
        "id": "v0KdSK4CCAvM"
      },
      "source": [
        "## SPLITTING TRAINING AND TEST"
      ]
    },
    {
      "cell_type": "code",
      "metadata": {
        "colab_type": "code",
        "id": "1RerYERQqfr2",
        "colab": {}
      },
      "source": [
        "train_df2 = train_df[(train_df['no_of_words']>1)]"
      ],
      "execution_count": 0,
      "outputs": []
    },
    {
      "cell_type": "code",
      "metadata": {
        "colab_type": "code",
        "id": "TexkeNshf0il",
        "outputId": "238f417a-df20-48df-9a09-a9afee09905f",
        "colab": {
          "base_uri": "https://localhost:8080/",
          "height": 118
        }
      },
      "source": [
        "train_df2['review_tag'] = train_df2['new_user_review']+train_df2['tags']\n",
        "test_df['review_tag']= test_df['new_user_review']+test_df['tags']"
      ],
      "execution_count": 0,
      "outputs": [
        {
          "output_type": "stream",
          "text": [
            "C:\\Users\\mohan\\AppData\\Local\\Continuum\\anaconda2\\envs\\python36\\lib\\site-packages\\ipykernel_launcher.py:1: SettingWithCopyWarning: \n",
            "A value is trying to be set on a copy of a slice from a DataFrame.\n",
            "Try using .loc[row_indexer,col_indexer] = value instead\n",
            "\n",
            "See the caveats in the documentation: http://pandas.pydata.org/pandas-docs/stable/indexing.html#indexing-view-versus-copy\n",
            "  \"\"\"Entry point for launching an IPython kernel.\n",
            "C:\\Users\\mohan\\AppData\\Local\\Continuum\\anaconda2\\envs\\python36\\lib\\site-packages\\ipykernel_launcher.py:2: SettingWithCopyWarning: \n",
            "A value is trying to be set on a copy of a slice from a DataFrame.\n",
            "Try using .loc[row_indexer,col_indexer] = value instead\n",
            "\n",
            "See the caveats in the documentation: http://pandas.pydata.org/pandas-docs/stable/indexing.html#indexing-view-versus-copy\n",
            "  \n"
          ],
          "name": "stderr"
        }
      ]
    },
    {
      "cell_type": "code",
      "metadata": {
        "colab_type": "code",
        "id": "iZEGWt9hXr-W",
        "colab": {}
      },
      "source": [
        "from sklearn.model_selection import train_test_split\n",
        "from sklearn import preprocessing\n",
        "x_train, x_valid, y_train, y_valid = train_test_split(train_df2, train_df2['user_suggestion'], \n",
        "                                                      random_state=0,test_size=0.15, stratify=train_df2['user_suggestion'])"
      ],
      "execution_count": 0,
      "outputs": []
    },
    {
      "cell_type": "code",
      "metadata": {
        "colab_type": "code",
        "id": "ZkhPZ_2GcnzE",
        "colab": {}
      },
      "source": [
        "x_train = x_train.fillna(0)\n",
        "x_valid = x_valid.fillna(0)"
      ],
      "execution_count": 0,
      "outputs": []
    },
    {
      "cell_type": "code",
      "metadata": {
        "colab_type": "code",
        "id": "HNMdBiVqOzux",
        "outputId": "f6bc88d9-f110-465f-e363-d6cc46998b70",
        "colab": {
          "base_uri": "https://localhost:8080/",
          "height": 34
        }
      },
      "source": [
        "print(y_train.shape)"
      ],
      "execution_count": 0,
      "outputs": [
        {
          "output_type": "stream",
          "text": [
            "(14836,)\n"
          ],
          "name": "stdout"
        }
      ]
    },
    {
      "cell_type": "markdown",
      "metadata": {
        "colab_type": "text",
        "id": "qky9SOTpZnKI"
      },
      "source": [
        "### ML model with additional features"
      ]
    },
    {
      "cell_type": "code",
      "metadata": {
        "colab_type": "code",
        "id": "7evrmFRsZWLE",
        "outputId": "7441dc58-a6d7-43c7-a476-a4331d8e545a",
        "colab": {}
      },
      "source": [
        "feature_processing.fit_transform(x_train) \n",
        "feature_processing.transform(x_valid) \n",
        "feature_processing.transform(test_df) "
      ],
      "execution_count": 0,
      "outputs": [
        {
          "output_type": "execute_result",
          "data": {
            "text/plain": [
              "<8045x582325 sparse matrix of type '<class 'numpy.float64'>'\n",
              "\twith 1837841 stored elements in Compressed Sparse Row format>"
            ]
          },
          "metadata": {
            "tags": []
          },
          "execution_count": 68
        }
      ]
    },
    {
      "cell_type": "code",
      "metadata": {
        "colab_type": "code",
        "id": "fX0yNMRnb2W4",
        "outputId": "5000fc2c-07d0-4bf2-af31-541b10f473fa",
        "colab": {
          "base_uri": "https://localhost:8080/",
          "height": 34
        }
      },
      "source": [
        "from collections import Counter\n",
        "Counter(y_train)"
      ],
      "execution_count": 0,
      "outputs": [
        {
          "output_type": "execute_result",
          "data": {
            "text/plain": [
              "Counter({1.0: 8448, 0.0: 6388})"
            ]
          },
          "metadata": {
            "tags": []
          },
          "execution_count": 69
        }
      ]
    },
    {
      "cell_type": "code",
      "metadata": {
        "colab_type": "code",
        "id": "H9TaTKSWZi56",
        "outputId": "357165af-c179-4c1e-8323-b3a6d6eeca4d",
        "colab": {}
      },
      "source": [
        "import numpy as np\n",
        "from sklearn import svm\n",
        "import xgboost as xgb\n",
        "from sklearn.ensemble import RandomForestClassifier\n",
        "\n",
        "pipeline = Pipeline([\n",
        "    ('features',feats),\n",
        "    ('classifier', xgb.XGBClassifier(objective='binary:logistic')),\n",
        "    # ('classifier', RandomForestClassifier())\n",
        "])"
      ],
      "execution_count": 0,
      "outputs": [
        {
          "output_type": "stream",
          "text": [
            "C:\\Users\\mohan\\AppData\\Local\\Continuum\\anaconda2\\envs\\python36\\lib\\site-packages\\sklearn\\ensemble\\weight_boosting.py:29: DeprecationWarning: numpy.core.umath_tests is an internal NumPy module and should not be imported. It will be removed in a future NumPy release.\n",
            "  from numpy.core.umath_tests import inner1d\n"
          ],
          "name": "stderr"
        }
      ]
    },
    {
      "cell_type": "code",
      "metadata": {
        "colab_type": "code",
        "id": "HzQiBYVZaCQN",
        "outputId": "9ef3b1a2-b775-495a-9072-f32c624db910",
        "colab": {
          "base_uri": "https://localhost:8080/",
          "height": 487
        }
      },
      "source": [
        "pipeline.fit(x_train, y_train, )"
      ],
      "execution_count": 0,
      "outputs": [
        {
          "output_type": "execute_result",
          "data": {
            "text/plain": [
              "Pipeline(memory=None,\n",
              "     steps=[('features', FeatureUnion(n_jobs=1,\n",
              "       transformer_list=[('review_tag', Pipeline(memory=None,\n",
              "     steps=[('selector', TextSelector(key='review_tag')), ('tfidf', TfidfVectorizer(analyzer='word', binary=False, decode_error='strict',\n",
              "        dtype=<class 'numpy.int64'>, encoding='utf-8', in...ale_pos_weight=1, subsample=1, tree_method=None,\n",
              "       validate_parameters=False, verbosity=None))])"
            ]
          },
          "metadata": {
            "tags": []
          },
          "execution_count": 71
        }
      ]
    },
    {
      "cell_type": "code",
      "metadata": {
        "colab_type": "code",
        "id": "J-UsE8A1a0Rx",
        "colab": {}
      },
      "source": [
        "y_pred = pipeline.predict_proba(x_valid)\n",
        "test_pred = pipeline.predict_proba(test_df)"
      ],
      "execution_count": 0,
      "outputs": []
    },
    {
      "cell_type": "code",
      "metadata": {
        "id": "YH_o_FcvLZx6",
        "colab_type": "code",
        "colab": {}
      },
      "source": [
        "from sklearn.metrics import classification_report, confusion_matrix, accuracy_score, f1_score\n",
        "\n",
        "def evaluate_model(y_true, y_pred):\n",
        "    print('confusion matrix')\n",
        "    cm = confusion_matrix(y_true, y_pred)\n",
        "    cm_df = pd.DataFrame(cm.T)\n",
        "    cm_df.index.name = 'Predicted'\n",
        "    cm_df.columns.name = 'True'\n",
        "    print(cm_df)\n",
        "    print('classification report')\n",
        "    print(classification_report(y_true,y_pred))\n",
        "    print('accuracy score')\n",
        "    print(accuracy_score(y_true, y_pred))"
      ],
      "execution_count": 0,
      "outputs": []
    },
    {
      "cell_type": "code",
      "metadata": {
        "id": "mZKf9Tf8LZx_",
        "colab_type": "code",
        "outputId": "fd0218d5-833a-4d2f-ba43-f07f244bf3ac",
        "colab": {}
      },
      "source": [
        "type(y_valid)"
      ],
      "execution_count": 0,
      "outputs": [
        {
          "output_type": "execute_result",
          "data": {
            "text/plain": [
              "pandas.core.series.Series"
            ]
          },
          "metadata": {
            "tags": []
          },
          "execution_count": 74
        }
      ]
    },
    {
      "cell_type": "code",
      "metadata": {
        "id": "AGMbug0kLZyE",
        "colab_type": "code",
        "colab": {}
      },
      "source": [
        "s = np.argmax(y_pred,axis=1)"
      ],
      "execution_count": 0,
      "outputs": []
    },
    {
      "cell_type": "code",
      "metadata": {
        "id": "ROaIGLYtLZyJ",
        "colab_type": "code",
        "colab": {}
      },
      "source": [
        "s= pd.Series(s)"
      ],
      "execution_count": 0,
      "outputs": []
    },
    {
      "cell_type": "code",
      "metadata": {
        "id": "KHxrhJZBLZyO",
        "colab_type": "code",
        "colab": {}
      },
      "source": [
        "y_pred1 = s"
      ],
      "execution_count": 0,
      "outputs": []
    },
    {
      "cell_type": "code",
      "metadata": {
        "id": "fdh50D9dLZyU",
        "colab_type": "code",
        "outputId": "b7f7cfab-2123-4771-a9dc-e26b469c44e5",
        "colab": {}
      },
      "source": [
        "y_pred1.shape"
      ],
      "execution_count": 0,
      "outputs": [
        {
          "output_type": "execute_result",
          "data": {
            "text/plain": [
              "(2619,)"
            ]
          },
          "metadata": {
            "tags": []
          },
          "execution_count": 78
        }
      ]
    },
    {
      "cell_type": "code",
      "metadata": {
        "id": "QKTrRL0lLZyb",
        "colab_type": "code",
        "outputId": "a0529170-0bdc-4de4-c58a-4a04de305557",
        "colab": {}
      },
      "source": [
        "y_pred.shape"
      ],
      "execution_count": 0,
      "outputs": [
        {
          "output_type": "execute_result",
          "data": {
            "text/plain": [
              "(2619, 2)"
            ]
          },
          "metadata": {
            "tags": []
          },
          "execution_count": 79
        }
      ]
    },
    {
      "cell_type": "code",
      "metadata": {
        "id": "APAZl44xLZyi",
        "colab_type": "code",
        "outputId": "a988bddb-715e-43bd-c4f2-88104ff31224",
        "colab": {}
      },
      "source": [
        "y_valid.shape"
      ],
      "execution_count": 0,
      "outputs": [
        {
          "output_type": "execute_result",
          "data": {
            "text/plain": [
              "(2619,)"
            ]
          },
          "metadata": {
            "tags": []
          },
          "execution_count": 80
        }
      ]
    },
    {
      "cell_type": "code",
      "metadata": {
        "colab_type": "code",
        "id": "PqK7ujtybOVU",
        "outputId": "343b30ee-a107-42da-f8e8-1b93a637e39d",
        "colab": {
          "base_uri": "https://localhost:8080/",
          "height": 302
        }
      },
      "source": [
        "evaluate_model(y_valid, y_pred1)"
      ],
      "execution_count": 0,
      "outputs": [
        {
          "output_type": "stream",
          "text": [
            "confusion matrix\n",
            "True         0     1\n",
            "Predicted           \n",
            "0          918   167\n",
            "1          210  1324\n",
            "classification report\n",
            "             precision    recall  f1-score   support\n",
            "\n",
            "        0.0       0.85      0.81      0.83      1128\n",
            "        1.0       0.86      0.89      0.88      1491\n",
            "\n",
            "avg / total       0.86      0.86      0.86      2619\n",
            "\n",
            "accuracy score\n",
            "0.8560519282168767\n"
          ],
          "name": "stdout"
        }
      ]
    },
    {
      "cell_type": "markdown",
      "metadata": {
        "colab_type": "text",
        "id": "jdxt7-HKkM9S"
      },
      "source": [
        "\n",
        "randomised search of XGboost"
      ]
    },
    {
      "cell_type": "code",
      "metadata": {
        "colab_type": "code",
        "id": "UP22xMGJD5sB",
        "outputId": "07591e10-aa08-4f49-dc1b-b04561a56d87",
        "colab": {
          "base_uri": "https://localhost:8080/",
          "height": 118
        }
      },
      "source": [
        "test_df['user_suggestion'] = np.argmax(test_pred, axis=1)"
      ],
      "execution_count": 0,
      "outputs": [
        {
          "output_type": "stream",
          "text": [
            "C:\\Users\\mohan\\AppData\\Local\\Continuum\\anaconda2\\envs\\python36\\lib\\site-packages\\ipykernel_launcher.py:1: SettingWithCopyWarning: \n",
            "A value is trying to be set on a copy of a slice from a DataFrame.\n",
            "Try using .loc[row_indexer,col_indexer] = value instead\n",
            "\n",
            "See the caveats in the documentation: http://pandas.pydata.org/pandas-docs/stable/indexing.html#indexing-view-versus-copy\n",
            "  \"\"\"Entry point for launching an IPython kernel.\n"
          ],
          "name": "stderr"
        }
      ]
    },
    {
      "cell_type": "code",
      "metadata": {
        "id": "V-c23xBNLZyr",
        "colab_type": "code",
        "outputId": "b77bbc81-2f68-4136-8e3c-bd9d32e120b5",
        "colab": {}
      },
      "source": [
        "test_df.shape"
      ],
      "execution_count": 0,
      "outputs": [
        {
          "output_type": "execute_result",
          "data": {
            "text/plain": [
              "(8045, 23)"
            ]
          },
          "metadata": {
            "tags": []
          },
          "execution_count": 83
        }
      ]
    },
    {
      "cell_type": "code",
      "metadata": {
        "id": "aIOpz-6zLZyv",
        "colab_type": "code",
        "colab": {}
      },
      "source": [
        "submission_xgb = test_df[['review_id','user_suggestion']]\n",
        "submission_xgb.to_csv(\"submission_sh_v1.csv\",index=False)"
      ],
      "execution_count": 0,
      "outputs": []
    },
    {
      "cell_type": "markdown",
      "metadata": {
        "colab_type": "text",
        "id": "YJRn6OVz1OjR"
      },
      "source": [
        "# Machine learning model (BASELINE)"
      ]
    },
    {
      "cell_type": "code",
      "metadata": {
        "id": "wdQnuaj9LZyy",
        "colab_type": "code",
        "colab": {}
      },
      "source": [
        "feats = FeatureUnion([('review_tag', review_tag), \n",
        "                      # ('tags', tags),\n",
        "                      ('neg_count', neg_count),\n",
        "                      ('pos_count', pos_count),\n",
        "                      ('overall_score', overall_score),\n",
        "                      ('last_word_polarity', last_word_polarity),\n",
        "                      ('pos_POStag_count', pos_POStag_count),\n",
        "                      ('neg_POStag_count', neg_POStag_count)])\n",
        "\n",
        "feature_processing = Pipeline([('feats', feats)])"
      ],
      "execution_count": 0,
      "outputs": []
    },
    {
      "cell_type": "code",
      "metadata": {
        "id": "zNNr55NvLZy0",
        "colab_type": "code",
        "outputId": "cec6b376-e8e0-4483-ca4c-5404cc8aacaa",
        "colab": {}
      },
      "source": [
        "train_df2 = train_df[(train_df['no_of_words']>1)]\n",
        "\n",
        "train_df2['review_tag'] = train_df2['new_user_review']+train_df2['tags']\n",
        "test_df['review_tag']= test_df['new_user_review']+test_df['tags']\n",
        "\n",
        "x_train, x_valid, y_train, y_valid = train_test_split(train_df2, train_df2['user_suggestion'], \n",
        "                                                      random_state=0,test_size=0.15, stratify=train_df2['user_suggestion'])\n",
        "\n",
        "x_train = x_train.fillna(0)\n",
        "x_valid = x_valid.fillna(0)\n",
        "\n",
        "print(y_train.shape)\n",
        "\n",
        "### ML model with additional features\n",
        "\n",
        "feature_processing.fit_transform(x_train) \n",
        "feature_processing.transform(x_valid) \n",
        "feature_processing.transform(test_df) "
      ],
      "execution_count": 0,
      "outputs": [
        {
          "output_type": "stream",
          "text": [
            "C:\\Users\\mohan\\AppData\\Local\\Continuum\\anaconda2\\envs\\python36\\lib\\site-packages\\ipykernel_launcher.py:3: SettingWithCopyWarning: \n",
            "A value is trying to be set on a copy of a slice from a DataFrame.\n",
            "Try using .loc[row_indexer,col_indexer] = value instead\n",
            "\n",
            "See the caveats in the documentation: http://pandas.pydata.org/pandas-docs/stable/indexing.html#indexing-view-versus-copy\n",
            "  This is separate from the ipykernel package so we can avoid doing imports until\n",
            "C:\\Users\\mohan\\AppData\\Local\\Continuum\\anaconda2\\envs\\python36\\lib\\site-packages\\ipykernel_launcher.py:4: SettingWithCopyWarning: \n",
            "A value is trying to be set on a copy of a slice from a DataFrame.\n",
            "Try using .loc[row_indexer,col_indexer] = value instead\n",
            "\n",
            "See the caveats in the documentation: http://pandas.pydata.org/pandas-docs/stable/indexing.html#indexing-view-versus-copy\n",
            "  after removing the cwd from sys.path.\n"
          ],
          "name": "stderr"
        },
        {
          "output_type": "stream",
          "text": [
            "(14836,)\n"
          ],
          "name": "stdout"
        },
        {
          "output_type": "execute_result",
          "data": {
            "text/plain": [
              "<8045x582317 sparse matrix of type '<class 'numpy.float64'>'\n",
              "\twith 1781528 stored elements in Compressed Sparse Row format>"
            ]
          },
          "metadata": {
            "tags": []
          },
          "execution_count": 86
        }
      ]
    },
    {
      "cell_type": "code",
      "metadata": {
        "id": "XE5DUlhVLZy2",
        "colab_type": "code",
        "outputId": "6efab150-2680-4c93-e3e4-bbb092f9b55d",
        "colab": {}
      },
      "source": [
        "pipeline_svm = Pipeline([\n",
        "    ('features',feats),\n",
        "    ('classifier', svm.SVC(C=100, class_weight='balanced',gamma = 1e-4, kernel='linear'))])\n",
        "\n",
        "pipeline_svm.fit(x_train, y_train )"
      ],
      "execution_count": 0,
      "outputs": [
        {
          "output_type": "execute_result",
          "data": {
            "text/plain": [
              "Pipeline(memory=None,\n",
              "     steps=[('features', FeatureUnion(n_jobs=1,\n",
              "       transformer_list=[('review_tag', Pipeline(memory=None,\n",
              "     steps=[('selector', TextSelector(key='review_tag')), ('tfidf', TfidfVectorizer(analyzer='word', binary=False, decode_error='strict',\n",
              "        dtype=<class 'numpy.int64'>, encoding='utf-8', in...,\n",
              "  max_iter=-1, probability=False, random_state=None, shrinking=True,\n",
              "  tol=0.001, verbose=False))])"
            ]
          },
          "metadata": {
            "tags": []
          },
          "execution_count": 87
        }
      ]
    },
    {
      "cell_type": "code",
      "metadata": {
        "id": "ORLbIw6wLZy4",
        "colab_type": "code",
        "colab": {}
      },
      "source": [
        "y_pred = pipeline_svm.predict(x_valid)\n",
        "test_pred = pipeline_svm.predict(test_df)"
      ],
      "execution_count": 0,
      "outputs": []
    },
    {
      "cell_type": "code",
      "metadata": {
        "id": "JXU1EMlcLZy6",
        "colab_type": "code",
        "outputId": "7c411710-ef2a-411f-9b57-82d385183c77",
        "colab": {}
      },
      "source": [
        "test_pred.shape"
      ],
      "execution_count": 0,
      "outputs": [
        {
          "output_type": "execute_result",
          "data": {
            "text/plain": [
              "(8045,)"
            ]
          },
          "metadata": {
            "tags": []
          },
          "execution_count": 89
        }
      ]
    },
    {
      "cell_type": "code",
      "metadata": {
        "id": "KQspAz-7LZzA",
        "colab_type": "code",
        "outputId": "c442317f-15f1-46a9-e2b3-65bec94b9034",
        "colab": {}
      },
      "source": [
        "evaluate_model(y_valid, y_pred)"
      ],
      "execution_count": 0,
      "outputs": [
        {
          "output_type": "stream",
          "text": [
            "confusion matrix\n",
            "True         0     1\n",
            "Predicted           \n",
            "0          971   139\n",
            "1          157  1352\n",
            "classification report\n",
            "             precision    recall  f1-score   support\n",
            "\n",
            "        0.0       0.87      0.86      0.87      1128\n",
            "        1.0       0.90      0.91      0.90      1491\n",
            "\n",
            "avg / total       0.89      0.89      0.89      2619\n",
            "\n",
            "accuracy score\n",
            "0.8869797632684231\n"
          ],
          "name": "stdout"
        }
      ]
    },
    {
      "cell_type": "code",
      "metadata": {
        "id": "QbCsCNnELZzC",
        "colab_type": "code",
        "outputId": "c128e46b-b1ea-444a-d789-00357fdd2401",
        "colab": {}
      },
      "source": [
        "test_df['user_suggestion'] = test_pred.astype(int)\n",
        "\n",
        "test_df.shape\n",
        "\n"
      ],
      "execution_count": 0,
      "outputs": [
        {
          "output_type": "stream",
          "text": [
            "C:\\Users\\mohan\\AppData\\Local\\Continuum\\anaconda2\\envs\\python36\\lib\\site-packages\\ipykernel_launcher.py:1: SettingWithCopyWarning: \n",
            "A value is trying to be set on a copy of a slice from a DataFrame.\n",
            "Try using .loc[row_indexer,col_indexer] = value instead\n",
            "\n",
            "See the caveats in the documentation: http://pandas.pydata.org/pandas-docs/stable/indexing.html#indexing-view-versus-copy\n",
            "  \"\"\"Entry point for launching an IPython kernel.\n"
          ],
          "name": "stderr"
        },
        {
          "output_type": "execute_result",
          "data": {
            "text/plain": [
              "(8045, 23)"
            ]
          },
          "metadata": {
            "tags": []
          },
          "execution_count": 91
        }
      ]
    },
    {
      "cell_type": "code",
      "metadata": {
        "id": "d12ulU8jLZzE",
        "colab_type": "code",
        "colab": {}
      },
      "source": [
        "submission_svm = test_df[['review_id','user_suggestion']]\n",
        "submission_svm.to_csv(\"submission_sh_v2_svm.csv\",index=False)"
      ],
      "execution_count": 0,
      "outputs": []
    },
    {
      "cell_type": "code",
      "metadata": {
        "id": "5n6oJUXfLZzG",
        "colab_type": "code",
        "colab": {}
      },
      "source": [
        "## Random forest\n",
        "\n",
        "feats = FeatureUnion([('review_tag', review_tag), \n",
        "                      # ('tags', tags),\n",
        "                      ('no_of_words', no_of_words),\n",
        "                      ('title',title),\n",
        "                      ('developer',developer),\n",
        "#                       ('year',year),\n",
        "#                       ('probab_rec',probab_rec),\n",
        "#                       ('probab_no_rec',probab_no_rec),\n",
        "#                       ('year_rec',year_rec),\n",
        "#                       ('year_no_rec',year_no_rec),\n",
        "                      ('neg_count', neg_count),\n",
        "                      ('pos_count', pos_count),\n",
        "                      ('overall_score', overall_score),\n",
        "                      ('last_word_polarity', last_word_polarity),\n",
        "                      ('pos_POStag_count', pos_POStag_count),\n",
        "                      ('neg_POStag_count', neg_POStag_count)])\n",
        "\n",
        "feature_processing = Pipeline([('feats', feats)])"
      ],
      "execution_count": 0,
      "outputs": []
    },
    {
      "cell_type": "code",
      "metadata": {
        "id": "PFNpBvGrLZzL",
        "colab_type": "code",
        "outputId": "1161d977-1b21-4015-d718-fef3d6a530ee",
        "colab": {}
      },
      "source": [
        "pipeline_rf = Pipeline([\n",
        "    ('features',feats),\n",
        "    ('classifier', RandomForestClassifier(n_estimators=100))])\n",
        "\n",
        "pipeline_rf.fit(x_train, y_train )"
      ],
      "execution_count": 0,
      "outputs": [
        {
          "output_type": "execute_result",
          "data": {
            "text/plain": [
              "Pipeline(memory=None,\n",
              "     steps=[('features', FeatureUnion(n_jobs=1,\n",
              "       transformer_list=[('review_tag', Pipeline(memory=None,\n",
              "     steps=[('selector', TextSelector(key='review_tag')), ('tfidf', TfidfVectorizer(analyzer='word', binary=False, decode_error='strict',\n",
              "        dtype=<class 'numpy.int64'>, encoding='utf-8', in...n_jobs=1,\n",
              "            oob_score=False, random_state=None, verbose=0,\n",
              "            warm_start=False))])"
            ]
          },
          "metadata": {
            "tags": []
          },
          "execution_count": 102
        }
      ]
    },
    {
      "cell_type": "code",
      "metadata": {
        "id": "g2JrlkxLLZzN",
        "colab_type": "code",
        "outputId": "5287bec7-0233-4d37-dce7-17bcedf8fac5",
        "colab": {}
      },
      "source": [
        "y_pred = pipeline_rf.predict(x_valid)\n",
        "test_df1 = test_df.replace(np.nan,0)\n",
        "test_pred = pipeline_rf.predict(test_df1)\n",
        "\n",
        "test_pred.shape\n",
        "\n",
        "evaluate_model(y_valid, y_pred)"
      ],
      "execution_count": 0,
      "outputs": [
        {
          "output_type": "stream",
          "text": [
            "confusion matrix\n",
            "True         0     1\n",
            "Predicted           \n",
            "0          780   153\n",
            "1          348  1338\n",
            "classification report\n",
            "             precision    recall  f1-score   support\n",
            "\n",
            "        0.0       0.84      0.69      0.76      1128\n",
            "        1.0       0.79      0.90      0.84      1491\n",
            "\n",
            "avg / total       0.81      0.81      0.81      2619\n",
            "\n",
            "accuracy score\n",
            "0.8087056128293242\n"
          ],
          "name": "stdout"
        }
      ]
    },
    {
      "cell_type": "code",
      "metadata": {
        "id": "RdYOn_lqLZzP",
        "colab_type": "code",
        "outputId": "6c914b00-441e-4148-fb2d-1ada5185b257",
        "colab": {}
      },
      "source": [
        "test_df['user_suggestion'] = test_pred.astype(int)\n",
        "\n",
        "test_df.shape\n",
        "\n",
        "\n",
        "\n",
        "submission_rf = test_df[['review_id','user_suggestion']]\n",
        "submission_rf.to_csv(\"submission_sh_v3_rf.csv\",index=False)"
      ],
      "execution_count": 0,
      "outputs": [
        {
          "output_type": "stream",
          "text": [
            "C:\\Users\\mohan\\AppData\\Local\\Continuum\\anaconda2\\envs\\python36\\lib\\site-packages\\ipykernel_launcher.py:1: SettingWithCopyWarning: \n",
            "A value is trying to be set on a copy of a slice from a DataFrame.\n",
            "Try using .loc[row_indexer,col_indexer] = value instead\n",
            "\n",
            "See the caveats in the documentation: http://pandas.pydata.org/pandas-docs/stable/indexing.html#indexing-view-versus-copy\n",
            "  \"\"\"Entry point for launching an IPython kernel.\n"
          ],
          "name": "stderr"
        }
      ]
    },
    {
      "cell_type": "markdown",
      "metadata": {
        "id": "iyqOwf6dLZzR",
        "colab_type": "text"
      },
      "source": [
        "## BERT"
      ]
    },
    {
      "cell_type": "code",
      "metadata": {
        "id": "MBaawWIGLZzS",
        "colab_type": "code",
        "colab": {}
      },
      "source": [
        "from bert_serving.client import BertClient\n",
        "\n",
        "# make a connection with the BERT server using it's ip address\n",
        "bc = BertClient()\n",
        "# get the embedding for train and val sets"
      ],
      "execution_count": 0,
      "outputs": []
    },
    {
      "cell_type": "code",
      "metadata": {
        "id": "e4tCvFPtLZzU",
        "colab_type": "code",
        "colab": {}
      },
      "source": [
        ""
      ],
      "execution_count": 0,
      "outputs": []
    },
    {
      "cell_type": "code",
      "metadata": {
        "id": "gVYF0Tu8LZzX",
        "colab_type": "code",
        "colab": {}
      },
      "source": [
        ""
      ],
      "execution_count": 0,
      "outputs": []
    },
    {
      "cell_type": "code",
      "metadata": {
        "id": "Rm2m0K_nLZzZ",
        "colab_type": "code",
        "colab": {}
      },
      "source": [
        ""
      ],
      "execution_count": 0,
      "outputs": []
    },
    {
      "cell_type": "code",
      "metadata": {
        "colab_type": "code",
        "id": "0ADWGa0zUWmk",
        "colab": {}
      },
      "source": [
        "from sklearn.feature_extraction.text import TfidfVectorizer, CountVectorizer\n",
        "\n",
        "count_vec = TfidfVectorizer(analyzer='word', token_pattern=r'\\w{1,}', ngram_range=(1,1))\n",
        "                           # max_df=0.25, binary=True, norm='l2')"
      ],
      "execution_count": 0,
      "outputs": []
    },
    {
      "cell_type": "code",
      "metadata": {
        "colab_type": "code",
        "id": "-iXXXzyR13jl",
        "colab": {}
      },
      "source": [
        "xtrain_count = count_vec.fit_transform(x_train['review_tag'])\n",
        "xvalid_count = count_vec.transform(x_valid['review_tag'])"
      ],
      "execution_count": 0,
      "outputs": []
    },
    {
      "cell_type": "code",
      "metadata": {
        "colab_type": "code",
        "id": "T4OZcdf-16Xc",
        "outputId": "2e1eb357-e7d9-4ce8-e980-2ee9b3b48de0",
        "colab": {
          "base_uri": "https://localhost:8080/",
          "height": 50
        }
      },
      "source": [
        "print(xtrain_count.shape)\n",
        "print(xvalid_count.shape)"
      ],
      "execution_count": 0,
      "outputs": [
        {
          "output_type": "stream",
          "text": [
            "(14836, 67165)\n",
            "(2619, 67165)\n"
          ],
          "name": "stdout"
        }
      ]
    },
    {
      "cell_type": "code",
      "metadata": {
        "colab_type": "code",
        "id": "9qExvbt-18Rf",
        "colab": {}
      },
      "source": [
        "from sklearn import svm\n",
        "classifier_svm = svm.SVC(C=100, class_weight='balanced',\\\n",
        "                         gamma = 1e-4, kernel='linear' )"
      ],
      "execution_count": 0,
      "outputs": []
    },
    {
      "cell_type": "code",
      "metadata": {
        "colab_type": "code",
        "id": "AEcACL2s2mZd",
        "colab": {}
      },
      "source": [
        "classifier_svm.fit(xtrain_count, y_train)\n",
        "svm_predictions = classifier_svm.predict(xvalid_count)"
      ],
      "execution_count": 0,
      "outputs": []
    },
    {
      "cell_type": "code",
      "metadata": {
        "colab_type": "code",
        "id": "To-uFenZTL9H",
        "outputId": "95320711-2c99-4adb-f512-df56eeb6e142",
        "colab": {
          "base_uri": "https://localhost:8080/",
          "height": 34
        }
      },
      "source": [
        "from sklearn.metrics import classification_report, confusion_matrix, accuracy_score, f1_score\n",
        "accuracy_score(y_valid, svm_predictions)"
      ],
      "execution_count": 0,
      "outputs": [
        {
          "output_type": "execute_result",
          "data": {
            "text/plain": [
              "0.5693012600229095"
            ]
          },
          "metadata": {
            "tags": []
          },
          "execution_count": 253
        }
      ]
    },
    {
      "cell_type": "code",
      "metadata": {
        "colab_type": "code",
        "id": "24CHi_w7Uafc",
        "outputId": "920f8b3c-b543-4d2f-a093-74fe73f7c348",
        "colab": {
          "base_uri": "https://localhost:8080/",
          "height": 84
        }
      },
      "source": [
        "import pandas as pd\n",
        "cm = confusion_matrix(y_valid, svm_predictions)\n",
        "cm_df = pd.DataFrame(cm.T)\n",
        "cm_df.index.name = 'Predicted'\n",
        "cm_df.columns.name = 'True'\n",
        "print(cm_df)"
      ],
      "execution_count": 0,
      "outputs": [
        {
          "output_type": "stream",
          "text": [
            "True          0     1\n",
            "Predicted            \n",
            "0             0     0\n",
            "1          1128  1491\n"
          ],
          "name": "stdout"
        }
      ]
    },
    {
      "cell_type": "code",
      "metadata": {
        "colab_type": "code",
        "id": "nKCB6kMO2oLy",
        "outputId": "a3631b10-02e3-4189-d5fe-452a7ea43ed1",
        "colab": {
          "base_uri": "https://localhost:8080/",
          "height": 34
        }
      },
      "source": [
        "from sklearn.metrics import classification_report, confusion_matrix, accuracy_score, f1_score\n",
        "accuracy_score(y_valid, svm_predictions)"
      ],
      "execution_count": 0,
      "outputs": [
        {
          "output_type": "execute_result",
          "data": {
            "text/plain": [
              "0.5693012600229095"
            ]
          },
          "metadata": {
            "tags": []
          },
          "execution_count": 255
        }
      ]
    },
    {
      "cell_type": "code",
      "metadata": {
        "colab_type": "code",
        "id": "ePvndZm65KWb",
        "outputId": "fba4056e-9ffd-46b6-a27a-466eda11d353",
        "colab": {
          "base_uri": "https://localhost:8080/",
          "height": 84
        }
      },
      "source": [
        "import pandas as pd\n",
        "cm = confusion_matrix(y_valid, svm_predictions)\n",
        "cm_df = pd.DataFrame(cm.T)\n",
        "cm_df.index.name = 'Predicted'\n",
        "cm_df.columns.name = 'True'\n",
        "print(cm_df)"
      ],
      "execution_count": 0,
      "outputs": [
        {
          "output_type": "stream",
          "text": [
            "True          0     1\n",
            "Predicted            \n",
            "0             0     0\n",
            "1          1128  1491\n"
          ],
          "name": "stdout"
        }
      ]
    },
    {
      "cell_type": "code",
      "metadata": {
        "colab_type": "code",
        "id": "TkSa9CE65S1P",
        "outputId": "53e0144d-d682-4220-e381-0bfad2379fdb",
        "colab": {
          "base_uri": "https://localhost:8080/",
          "height": 168
        }
      },
      "source": [
        "print(classification_report(y_valid,svm_predictions))"
      ],
      "execution_count": 0,
      "outputs": [
        {
          "output_type": "stream",
          "text": [
            "             precision    recall  f1-score   support\n",
            "\n",
            "        0.0       0.00      0.00      0.00      1128\n",
            "        1.0       0.57      1.00      0.73      1491\n",
            "\n",
            "avg / total       0.32      0.57      0.41      2619\n",
            "\n"
          ],
          "name": "stdout"
        },
        {
          "output_type": "stream",
          "text": [
            "C:\\Users\\mohan\\AppData\\Local\\Continuum\\anaconda2\\envs\\python36\\lib\\site-packages\\sklearn\\metrics\\classification.py:1135: UndefinedMetricWarning: Precision and F-score are ill-defined and being set to 0.0 in labels with no predicted samples.\n",
            "  'precision', 'predicted', average, warn_for)\n"
          ],
          "name": "stderr"
        }
      ]
    },
    {
      "cell_type": "markdown",
      "metadata": {
        "colab_type": "text",
        "id": "6gg-3D8fP1C8"
      },
      "source": [
        "best performance for svm when c 100 ngram (1,1) and class weight is balanced"
      ]
    },
    {
      "cell_type": "markdown",
      "metadata": {
        "colab_type": "text",
        "id": "tpZjygceMjI4"
      },
      "source": [
        "# TUNING HYPERPARAMETER"
      ]
    },
    {
      "cell_type": "code",
      "metadata": {
        "colab_type": "code",
        "id": "vxGRuXmCMn66",
        "colab": {}
      },
      "source": [
        "pipeline = Pipeline([\n",
        "    ('vect', TfidfVectorizer(analyzer='word', token_pattern=r'\\w{1,}')),\n",
        "    ('clf', RandomForestClassifier(class_weight='balanced'))\n",
        "])\n",
        "\n",
        "from sklearn.ensemble import RandomForestClassifier"
      ],
      "execution_count": 0,
      "outputs": []
    },
    {
      "cell_type": "code",
      "metadata": {
        "colab_type": "code",
        "id": "7jPuFgYTMub4",
        "colab": {}
      },
      "source": [
        "from sklearn.model_selection import RandomizedSearchCV\n",
        "# Number of trees in random forest\n",
        "n_estimators = [int(x) for x in np.linspace(start = 200, stop = 2000, num = 10)]\n",
        "# Number of features to consider at every split\n",
        "max_features = ['auto', 'sqrt']\n",
        "# Maximum number of levels in tree\n",
        "max_depth = [int(x) for x in np.linspace(10, 110, num = 11)]\n",
        "max_depth.append(None)\n",
        "# Minimum number of samples required to split a node\n",
        "min_samples_split = [2, 5, 10]\n",
        "# Minimum number of samples required at each leaf node\n",
        "min_samples_leaf = [1, 2, 4]\n",
        "# Method of selecting samples for training each tree\n",
        "bootstrap = [True, False]\n",
        "\n",
        "parameters = {\n",
        "    'vect__max_df': (0.1, 0.25, 0.5, 0.75),\n",
        "    'vect__binary': (True, False),\n",
        "    'vect__ngram_range': ((1, 1), (1, 2)),\n",
        "    'vect__use_idf': (True, False),\n",
        "    'vect__norm': ('l1', 'l2', None),\n",
        "    \"clf__max_features\": max_features,\n",
        "    'clf__n_estimators': n_estimators,\n",
        "    'clf__max_depth': max_depth,\n",
        "    'clf__min_samples_split': min_samples_split,\n",
        "    'clf__min_samples_leaf': min_samples_leaf,\n",
        "    'clf__bootstrap': bootstrap\n",
        "}\n"
      ],
      "execution_count": 0,
      "outputs": []
    },
    {
      "cell_type": "code",
      "metadata": {
        "colab_type": "code",
        "id": "9u93nKisOERN",
        "outputId": "873bc7a0-a38c-4ae1-8444-4db184af2121",
        "colab": {
          "base_uri": "https://localhost:8080/",
          "height": 121
        }
      },
      "source": [
        "rf_random = RandomizedSearchCV(pipeline, parameters, n_jobs=-1, scoring='accuracy', n_iter=100, \\\n",
        "                               cv=5, verbose=2, random_state=42)\n",
        "rf_random.fit(x_train['review_tag'], y_train)\n",
        "\n",
        "rf_random.best_score_"
      ],
      "execution_count": 0,
      "outputs": [
        {
          "output_type": "stream",
          "text": [
            "Fitting 5 folds for each of 100 candidates, totalling 500 fits\n"
          ],
          "name": "stdout"
        },
        {
          "output_type": "stream",
          "text": [
            "[Parallel(n_jobs=-1)]: Using backend LokyBackend with 2 concurrent workers.\n",
            "/usr/local/lib/python3.6/dist-packages/joblib/externals/loky/process_executor.py:706: UserWarning: A worker stopped while some jobs were given to the executor. This can be caused by a too short worker timeout or by a memory leak.\n",
            "  \"timeout or by a memory leak.\", UserWarning\n",
            "[Parallel(n_jobs=-1)]: Done  37 tasks      | elapsed: 42.7min\n"
          ],
          "name": "stderr"
        }
      ]
    },
    {
      "cell_type": "code",
      "metadata": {
        "colab_type": "code",
        "id": "xfkkQB5wGgiv",
        "colab": {}
      },
      "source": [
        "params = {\"C\": [0.5, 1, 10, 100],\n",
        "    'gamma': [1e-2, 1e-3, 1e-4]}"
      ],
      "execution_count": 0,
      "outputs": []
    },
    {
      "cell_type": "code",
      "metadata": {
        "colab_type": "code",
        "id": "b8yMVuiTGn_n",
        "colab": {}
      },
      "source": [
        "# from sklearn.model_selection import RandomizedSearchCV\n",
        "# svm_search = RandomizedSearchCV(svm.SVC(class_weight='balanced'), params, n_jobs=-1, n_iter = 30, verbose=1, scoring='accuracy', cv=5)\n",
        "# svm_search.fit(xtrain_count, y_train)"
      ],
      "execution_count": 0,
      "outputs": []
    },
    {
      "cell_type": "code",
      "metadata": {
        "colab_type": "code",
        "id": "AjwYpq3TF2E5",
        "colab": {}
      },
      "source": [
        "\n",
        "# Create the random grid\n",
        "random_grid = {'n_estimators': n_estimators,\n",
        "               'max_features': max_features,\n",
        "               'max_depth': max_depth,\n",
        "               'min_samples_split': min_samples_split,\n",
        "               'min_samples_leaf': min_samples_leaf,\n",
        "               'bootstrap': bootstrap}\n",
        "\n",
        "classifier_RF = RandomForestClassifier()\n",
        "rf_random = RandomizedSearchCV(estimator = classifier_RF, param_distributions = random_grid, n_iter = 100 , cv = 10, verbose=2, random_state=42, n_jobs = -1)\n",
        "\n",
        "rf_random.fit(xtrain_count, y_train)"
      ],
      "execution_count": 0,
      "outputs": []
    },
    {
      "cell_type": "code",
      "metadata": {
        "colab_type": "code",
        "id": "gVDYc7sY5vQX",
        "outputId": "d4003ec1-b7cc-43a3-dec7-00e927578593",
        "colab": {
          "base_uri": "https://localhost:8080/",
          "height": 151
        }
      },
      "source": [
        "classifier_RF.fit(xtrain_count, y_train)"
      ],
      "execution_count": 0,
      "outputs": [
        {
          "output_type": "execute_result",
          "data": {
            "text/plain": [
              "RandomForestClassifier(bootstrap=True, ccp_alpha=0.0, class_weight=None,\n",
              "                       criterion='gini', max_depth=None, max_features='auto',\n",
              "                       max_leaf_nodes=None, max_samples=None,\n",
              "                       min_impurity_decrease=0.0, min_impurity_split=None,\n",
              "                       min_samples_leaf=1, min_samples_split=2,\n",
              "                       min_weight_fraction_leaf=0.0, n_estimators=100,\n",
              "                       n_jobs=None, oob_score=False, random_state=None,\n",
              "                       verbose=0, warm_start=False)"
            ]
          },
          "metadata": {
            "tags": []
          },
          "execution_count": 609
        }
      ]
    },
    {
      "cell_type": "code",
      "metadata": {
        "colab_type": "code",
        "id": "TmJBnUID6Y_1",
        "colab": {}
      },
      "source": [
        "RF_predictions = classifier_RF.predict(xvalid_count)"
      ],
      "execution_count": 0,
      "outputs": []
    },
    {
      "cell_type": "code",
      "metadata": {
        "colab_type": "code",
        "id": "qy3y2HXD9zxA",
        "outputId": "59fcfbf7-0b41-4767-b866-4b6023aae415",
        "colab": {
          "base_uri": "https://localhost:8080/",
          "height": 168
        }
      },
      "source": [
        "print(classification_report(y_valid,RF_predictions))"
      ],
      "execution_count": 0,
      "outputs": [
        {
          "output_type": "stream",
          "text": [
            "              precision    recall  f1-score   support\n",
            "\n",
            "         0.0       0.78      0.65      0.71      1128\n",
            "         1.0       0.76      0.86      0.81      1490\n",
            "\n",
            "    accuracy                           0.77      2618\n",
            "   macro avg       0.77      0.76      0.76      2618\n",
            "weighted avg       0.77      0.77      0.77      2618\n",
            "\n"
          ],
          "name": "stdout"
        }
      ]
    },
    {
      "cell_type": "code",
      "metadata": {
        "colab_type": "code",
        "id": "_i9eTkyq94Sm",
        "outputId": "18500b73-eaf3-4863-9022-6652354886ff",
        "colab": {
          "base_uri": "https://localhost:8080/",
          "height": 34
        }
      },
      "source": [
        "accuracy_score(y_valid, RF_predictions)"
      ],
      "execution_count": 0,
      "outputs": [
        {
          "output_type": "execute_result",
          "data": {
            "text/plain": [
              "0.7696715049656226"
            ]
          },
          "metadata": {
            "tags": []
          },
          "execution_count": 612
        }
      ]
    },
    {
      "cell_type": "code",
      "metadata": {
        "colab_type": "code",
        "id": "mr7OOd6u9-zk",
        "colab": {}
      },
      "source": [
        ""
      ],
      "execution_count": 0,
      "outputs": []
    },
    {
      "cell_type": "code",
      "metadata": {
        "colab_type": "code",
        "id": "0SckARhp-H7W",
        "colab": {}
      },
      "source": [
        ""
      ],
      "execution_count": 0,
      "outputs": []
    },
    {
      "cell_type": "code",
      "metadata": {
        "colab_type": "code",
        "id": "KREnox_7_kZN",
        "colab": {}
      },
      "source": [
        "new = pd.merge(test,test_df, on = ['review_id'], how='left')"
      ],
      "execution_count": 0,
      "outputs": []
    },
    {
      "cell_type": "code",
      "metadata": {
        "colab_type": "code",
        "id": "1dihh8WNDkJ6",
        "colab": {}
      },
      "source": [
        "new.fillna(0, inplace=True)"
      ],
      "execution_count": 0,
      "outputs": []
    },
    {
      "cell_type": "code",
      "metadata": {
        "colab_type": "code",
        "id": "4zLHUKlI_0tl",
        "colab": {}
      },
      "source": [
        "new['user_suggestion'] = new['user_suggestion'].astype('int')"
      ],
      "execution_count": 0,
      "outputs": []
    },
    {
      "cell_type": "code",
      "metadata": {
        "colab_type": "code",
        "id": "Lzj70MJBDwmO",
        "colab": {}
      },
      "source": [
        "\n",
        "test_df['new_text'] = test_df['new_text'].apply(preprocess)"
      ],
      "execution_count": 0,
      "outputs": []
    },
    {
      "cell_type": "code",
      "metadata": {
        "colab_type": "code",
        "id": "DkTXx-Xh_2uf",
        "colab": {}
      },
      "source": [
        "xtest_count = count_vec.transform(test_df['review_tag'])"
      ],
      "execution_count": 0,
      "outputs": []
    },
    {
      "cell_type": "code",
      "metadata": {
        "colab_type": "code",
        "id": "881LIc0tBX_P",
        "colab": {}
      },
      "source": [
        "test_pred = classifier_svm.predict(xtest_count)"
      ],
      "execution_count": 0,
      "outputs": []
    },
    {
      "cell_type": "code",
      "metadata": {
        "colab_type": "code",
        "id": "rFbO6zdeBb60",
        "outputId": "c7647652-ae0f-4f2f-844e-e2b131586f05",
        "colab": {
          "base_uri": "https://localhost:8080/",
          "height": 118
        }
      },
      "source": [
        "test_df['user_suggestion'] = [int(x) for x in test_pred]"
      ],
      "execution_count": 0,
      "outputs": [
        {
          "output_type": "stream",
          "text": [
            "/usr/local/lib/python3.6/dist-packages/ipykernel_launcher.py:1: SettingWithCopyWarning: \n",
            "A value is trying to be set on a copy of a slice from a DataFrame.\n",
            "Try using .loc[row_indexer,col_indexer] = value instead\n",
            "\n",
            "See the caveats in the documentation: https://pandas.pydata.org/pandas-docs/stable/user_guide/indexing.html#returning-a-view-versus-a-copy\n",
            "  \"\"\"Entry point for launching an IPython kernel.\n"
          ],
          "name": "stderr"
        }
      ]
    },
    {
      "cell_type": "code",
      "metadata": {
        "colab_type": "code",
        "id": "JrhcVAhfDnG1",
        "colab": {}
      },
      "source": [
        "new[['review_id','user_suggestion']].to_csv('xg_pred.csv', index=False)"
      ],
      "execution_count": 0,
      "outputs": []
    },
    {
      "cell_type": "markdown",
      "metadata": {
        "colab_type": "text",
        "id": "9Lar2tX8F8_w"
      },
      "source": [
        "using review+tag gives better result instead of using review, tag and overview"
      ]
    },
    {
      "cell_type": "markdown",
      "metadata": {
        "colab_type": "text",
        "id": "SZYC_70dVDFb"
      },
      "source": [
        "## Bert model"
      ]
    },
    {
      "cell_type": "code",
      "metadata": {
        "colab_type": "code",
        "id": "eo07ZLpG_7ar",
        "outputId": "0d03fadd-2d9a-4ab8-ff88-c449485992a4",
        "colab": {
          "base_uri": "https://localhost:8080/",
          "height": 490
        }
      },
      "source": [
        "!pip install bert-for-tf2\n",
        "!pip install sentencepiece"
      ],
      "execution_count": 0,
      "outputs": [
        {
          "output_type": "stream",
          "text": [
            "Collecting bert-for-tf2\n",
            "\u001b[?25l  Downloading https://files.pythonhosted.org/packages/35/5c/6439134ecd17b33fe0396fb0b7d6ce3c5a120c42a4516ba0e9a2d6e43b25/bert-for-tf2-0.14.4.tar.gz (40kB)\n",
            "\r\u001b[K     |████████                        | 10kB 24.7MB/s eta 0:00:01\r\u001b[K     |████████████████▏               | 20kB 31.9MB/s eta 0:00:01\r\u001b[K     |████████████████████████▎       | 30kB 35.5MB/s eta 0:00:01\r\u001b[K     |████████████████████████████████| 40kB 6.4MB/s \n",
            "\u001b[?25hCollecting py-params>=0.9.6\n",
            "  Downloading https://files.pythonhosted.org/packages/a4/bf/c1c70d5315a8677310ea10a41cfc41c5970d9b37c31f9c90d4ab98021fd1/py-params-0.9.7.tar.gz\n",
            "Collecting params-flow>=0.8.0\n",
            "  Downloading https://files.pythonhosted.org/packages/ac/0d/615c0d4aea541b4f47c761263809a02e160e7a2babd175f0ddd804776cf4/params-flow-0.8.0.tar.gz\n",
            "Requirement already satisfied: numpy in /usr/local/lib/python3.6/dist-packages (from params-flow>=0.8.0->bert-for-tf2) (1.18.2)\n",
            "Requirement already satisfied: tqdm in /usr/local/lib/python3.6/dist-packages (from params-flow>=0.8.0->bert-for-tf2) (4.38.0)\n",
            "Building wheels for collected packages: bert-for-tf2, py-params, params-flow\n",
            "  Building wheel for bert-for-tf2 (setup.py) ... \u001b[?25l\u001b[?25hdone\n",
            "  Created wheel for bert-for-tf2: filename=bert_for_tf2-0.14.4-cp36-none-any.whl size=30114 sha256=8feb6ff04ff0c50b13400959ebf193c3d98d57bd689ca318c72d4a57d3c52bc7\n",
            "  Stored in directory: /root/.cache/pip/wheels/cf/3f/4d/79d7735015a5f523648df90d871ce8e89a7df8185f7703eeab\n",
            "  Building wheel for py-params (setup.py) ... \u001b[?25l\u001b[?25hdone\n",
            "  Created wheel for py-params: filename=py_params-0.9.7-cp36-none-any.whl size=7302 sha256=be345e1ab16cc5dbe3d12175597e6f569178783e3bcf19671db0e723a732285e\n",
            "  Stored in directory: /root/.cache/pip/wheels/67/f5/19/b461849a50aefdf4bab47c4756596e82ee2118b8278e5a1980\n",
            "  Building wheel for params-flow (setup.py) ... \u001b[?25l\u001b[?25hdone\n",
            "  Created wheel for params-flow: filename=params_flow-0.8.0-cp36-none-any.whl size=15999 sha256=4aa15f368ff9cc8c70672b6053f983f14a8d813a9c4a3b91016f0b5d1453c9d0\n",
            "  Stored in directory: /root/.cache/pip/wheels/88/41/05/1a9955d1d01575bbd58aab76e22f8c7eeabba905d551576f43\n",
            "Successfully built bert-for-tf2 py-params params-flow\n",
            "Installing collected packages: py-params, params-flow, bert-for-tf2\n",
            "Successfully installed bert-for-tf2-0.14.4 params-flow-0.8.0 py-params-0.9.7\n",
            "Collecting sentencepiece\n",
            "\u001b[?25l  Downloading https://files.pythonhosted.org/packages/74/f4/2d5214cbf13d06e7cb2c20d84115ca25b53ea76fa1f0ade0e3c9749de214/sentencepiece-0.1.85-cp36-cp36m-manylinux1_x86_64.whl (1.0MB)\n",
            "\u001b[K     |████████████████████████████████| 1.0MB 28.4MB/s \n",
            "\u001b[?25hInstalling collected packages: sentencepiece\n",
            "Successfully installed sentencepiece-0.1.85\n"
          ],
          "name": "stdout"
        }
      ]
    },
    {
      "cell_type": "code",
      "metadata": {
        "colab_type": "code",
        "id": "nxkaCQq1_3LZ",
        "colab": {}
      },
      "source": [
        "import tensorflow as tf\n",
        "import tensorflow_hub as hub\n",
        "import bert\n",
        "from tensorflow.keras.models import  Model\n",
        "from tqdm import tqdm\n",
        "import numpy as np\n",
        "from collections import namedtuple"
      ],
      "execution_count": 0,
      "outputs": []
    },
    {
      "cell_type": "code",
      "metadata": {
        "colab_type": "code",
        "id": "REgzpzKx_-I5",
        "colab": {}
      },
      "source": [
        "bert_layer=hub.KerasLayer(\"https://tfhub.dev/tensorflow/bert_en_uncased_L-24_H-1024_A-16/1\",trainable=True)"
      ],
      "execution_count": 0,
      "outputs": []
    },
    {
      "cell_type": "code",
      "metadata": {
        "colab_type": "code",
        "id": "U_E2a7BEAXL5",
        "colab": {}
      },
      "source": [
        "MAX_SEQ_LEN=128\n",
        "input_word_ids = tf.keras.layers.Input(shape=(MAX_SEQ_LEN,), dtype=tf.int32,\n",
        "                                       name=\"input_word_ids\")\n",
        "input_mask = tf.keras.layers.Input(shape=(MAX_SEQ_LEN,), dtype=tf.int32,\n",
        "                                   name=\"input_mask\")\n",
        "segment_ids = tf.keras.layers.Input(shape=(MAX_SEQ_LEN,), dtype=tf.int32,\n",
        "                                    name=\"segment_ids\")"
      ],
      "execution_count": 0,
      "outputs": []
    },
    {
      "cell_type": "markdown",
      "metadata": {
        "colab_type": "text",
        "id": "TneQxyNlOuQe"
      },
      "source": [
        "input token ids is tokenizer converts tokens using vocab file.<br>\n",
        "input masks are either 0 or 1. 1 for useful tokens, 0 for padding.<br>\n",
        "segment ids are either 0 or 1. For 2 text training: 0 for the first one, 1 for the second one.\n",
        "\n",
        "MAx sequence length is choosen as 128 based on the available text length in user review"
      ]
    },
    {
      "cell_type": "code",
      "metadata": {
        "colab_type": "code",
        "id": "05mTDuV1AcU2",
        "colab": {}
      },
      "source": [
        "def get_masks(tokens, max_seq_length):\n",
        "    return [1]*len(tokens) + [0] * (max_seq_length - len(tokens))\n",
        " \n",
        "def get_segments(tokens, max_seq_length):\n",
        "    \"\"\"Segments: 0 for the first sequence, 1 for the second\"\"\"\n",
        "    segments = []\n",
        "    current_segment_id = 0\n",
        "    for token in tokens:\n",
        "        segments.append(current_segment_id)\n",
        "        if token == \"[SEP]\":\n",
        "            current_segment_id = 1\n",
        "    return segments + [0] * (max_seq_length - len(tokens))"
      ],
      "execution_count": 0,
      "outputs": []
    },
    {
      "cell_type": "code",
      "metadata": {
        "colab_type": "code",
        "id": "O0xHxUTMAr_Z",
        "colab": {}
      },
      "source": [
        "pooled_output, sequence_output = bert_layer([input_word_ids, input_mask, segment_ids])"
      ],
      "execution_count": 0,
      "outputs": []
    },
    {
      "cell_type": "code",
      "metadata": {
        "colab_type": "code",
        "id": "xIULOOwWAucy",
        "colab": {}
      },
      "source": [
        "FullTokenizer=bert.bert_tokenization.FullTokenizer\n",
        " \n",
        "vocab_file=bert_layer.resolved_object.vocab_file.asset_path.numpy()\n",
        " \n",
        "do_lower_case=bert_layer.resolved_object.do_lower_case.numpy()\n",
        " \n",
        "tokenizer=FullTokenizer(vocab_file,do_lower_case)\n",
        " \n",
        "def get_ids(tokens, tokenizer, max_seq_length):\n",
        "    \"\"\"Token ids from Tokenizer vocab\"\"\"\n",
        "    token_ids = tokenizer.convert_tokens_to_ids(tokens,)\n",
        "    input_ids = token_ids + [0] * (max_seq_length-len(token_ids))\n",
        "    return input_ids"
      ],
      "execution_count": 0,
      "outputs": []
    },
    {
      "cell_type": "code",
      "metadata": {
        "colab_type": "code",
        "id": "U_OOKguQA7wo",
        "colab": {}
      },
      "source": [
        "def create_single_input(sentence,MAX_LEN):\n",
        "  \n",
        "  stokens = tokenizer.tokenize(sentence)\n",
        "  \n",
        "  stokens = stokens[:MAX_LEN]\n",
        "  \n",
        "  stokens = [\"[CLS]\"] + stokens + [\"[SEP]\"]\n",
        " \n",
        "  ids = get_ids(stokens, tokenizer, MAX_SEQ_LEN)\n",
        "  masks = get_masks(stokens, MAX_SEQ_LEN)\n",
        "  segments = get_segments(stokens, MAX_SEQ_LEN)\n",
        "\n",
        "  return ids,masks,segments\n",
        "\n",
        "def create_input_array(sentences):\n",
        "\n",
        "  input_ids, input_masks, input_segments = [], [], []\n",
        "\n",
        "  for sentence in tqdm(sentences,position=0, leave=True):\n",
        "  \n",
        "    ids,masks,segments=create_single_input(sentence,MAX_SEQ_LEN-2)\n",
        "\n",
        "    input_ids.append(ids)\n",
        "    input_masks.append(masks)\n",
        "    input_segments.append(segments)\n",
        "\n",
        "  return [np.asarray(input_ids, dtype=np.int32), \n",
        "            np.asarray(input_masks, dtype=np.int32), \n",
        "            np.asarray(input_segments, dtype=np.int32)]"
      ],
      "execution_count": 0,
      "outputs": []
    },
    {
      "cell_type": "code",
      "metadata": {
        "colab_type": "code",
        "id": "yrKixWqlBNaF",
        "colab": {}
      },
      "source": [
        "x = tf.keras.layers.Dense(256, activation='relu')(sequence_output)\n",
        "x = tf.keras.layers.Dropout(0.2)(x)\n",
        "out = tf.keras.layers.Dense(1, activation=\"sigmoid\", name=\"dense_output\")(x)\n",
        " \n",
        "model = tf.keras.models.Model(\n",
        "      inputs=[input_word_ids, input_mask, segment_ids], outputs=out)\n",
        " \n",
        "model.compile(loss='binary_crossentropy',\n",
        "                  optimizer='adam',\n",
        "                  metrics=['accuracy'])"
      ],
      "execution_count": 0,
      "outputs": []
    },
    {
      "cell_type": "code",
      "metadata": {
        "colab_type": "code",
        "id": "iD06dVL4BRTH",
        "outputId": "afd4e224-f334-4faf-fbd0-e9db0641868f",
        "colab": {
          "base_uri": "https://localhost:8080/",
          "height": 34
        }
      },
      "source": [
        "train_sentences = np.array(x_train['new_user_review'])\n",
        "inputs=create_input_array(train_sentences)\n"
      ],
      "execution_count": 0,
      "outputs": [
        {
          "output_type": "stream",
          "text": [
            "100%|██████████| 14852/14852 [00:16<00:00, 898.05it/s]\n"
          ],
          "name": "stderr"
        }
      ]
    },
    {
      "cell_type": "code",
      "metadata": {
        "colab_type": "code",
        "id": "st-uvKtvKFXe",
        "outputId": "247c3578-4c17-4b77-b429-bac0ace17a33",
        "colab": {
          "base_uri": "https://localhost:8080/",
          "height": 34
        }
      },
      "source": [
        "valid_sentences = np.array(x_valid['new_user_review'])\n",
        "val_inputs=create_input_array(valid_sentences)"
      ],
      "execution_count": 0,
      "outputs": [
        {
          "output_type": "stream",
          "text": [
            "100%|██████████| 2621/2621 [00:02<00:00, 931.46it/s]\n"
          ],
          "name": "stderr"
        }
      ]
    },
    {
      "cell_type": "code",
      "metadata": {
        "colab_type": "code",
        "id": "S4R4kAXUY5-O",
        "outputId": "e0f0a4a2-fcd8-49ad-c2f4-480af6f4997b",
        "colab": {
          "base_uri": "https://localhost:8080/",
          "height": 101
        }
      },
      "source": [
        "model.fit(inputs,y_train,epochs=2,batch_size=6,validation_data=(val_inputs, y_valid),shuffle=True)"
      ],
      "execution_count": 0,
      "outputs": [
        {
          "output_type": "stream",
          "text": [
            "Epoch 1/2\n",
            "2476/2476 [==============================] - 616s 249ms/step - loss: 0.6836 - accuracy: 0.5696 - val_loss: 0.6835 - val_accuracy: 0.5696\n",
            "Epoch 2/2\n",
            "2476/2476 [==============================] - 618s 250ms/step - loss: 0.6834 - accuracy: 0.5696 - val_loss: 0.6835 - val_accuracy: 0.5696\n"
          ],
          "name": "stdout"
        },
        {
          "output_type": "execute_result",
          "data": {
            "text/plain": [
              "<tensorflow.python.keras.callbacks.History at 0x7f86f0211438>"
            ]
          },
          "metadata": {
            "tags": []
          },
          "execution_count": 101
        }
      ]
    },
    {
      "cell_type": "markdown",
      "metadata": {
        "colab_type": "text",
        "id": "-scL6YVaEgda"
      },
      "source": [
        "## LSTM model"
      ]
    },
    {
      "cell_type": "code",
      "metadata": {
        "colab_type": "code",
        "id": "xUzqbgQ5b7FZ",
        "colab": {}
      },
      "source": [
        "train = train[train['no_of_words']>1]"
      ],
      "execution_count": 0,
      "outputs": []
    },
    {
      "cell_type": "code",
      "metadata": {
        "colab_type": "code",
        "id": "rvkGZZKbEwaS",
        "colab": {}
      },
      "source": [
        "review = train['new_user_review'].to_list()"
      ],
      "execution_count": 0,
      "outputs": []
    },
    {
      "cell_type": "code",
      "metadata": {
        "colab_type": "code",
        "id": "OFTKIhQDDtuh",
        "colab": {}
      },
      "source": [
        "tokenised_review = []\n",
        "for line in review:\n",
        "  words = word_tokenize(line)\n",
        "  tokenised_review.append(words)"
      ],
      "execution_count": 0,
      "outputs": []
    },
    {
      "cell_type": "code",
      "metadata": {
        "colab_type": "code",
        "id": "o8OlCnvXG1z-",
        "colab": {}
      },
      "source": [
        "import gensim\n",
        "\n",
        "model = gensim.models.Word2Vec(sentences=tokenised_review, size=100, window=5,workers=4, min_count=1)\n",
        "words = list(model.wv.vocab)"
      ],
      "execution_count": 0,
      "outputs": []
    },
    {
      "cell_type": "code",
      "metadata": {
        "colab_type": "code",
        "id": "uavTzH0uX__y",
        "outputId": "ad6983aa-0c88-47a9-f2af-e4cd489098e6",
        "colab": {
          "base_uri": "https://localhost:8080/",
          "height": 70
        }
      },
      "source": [
        "filename = 'word_vocab.txt'\n",
        "model.wv.save_word2vec_format(filename, binary=False)"
      ],
      "execution_count": 0,
      "outputs": [
        {
          "output_type": "stream",
          "text": [
            "/usr/local/lib/python3.6/dist-packages/smart_open/smart_open_lib.py:253: UserWarning: This function is deprecated, use smart_open.open instead. See the migration notes for details: https://github.com/RaRe-Technologies/smart_open/blob/master/README.rst#migrating-to-the-new-open-function\n",
            "  'See the migration notes for details: %s' % _MIGRATION_NOTES_URL\n"
          ],
          "name": "stderr"
        }
      ]
    },
    {
      "cell_type": "code",
      "metadata": {
        "colab_type": "code",
        "id": "FZFdjhQXYTnB",
        "colab": {}
      },
      "source": [
        "import os\n",
        "embedding_index = {}\n",
        "f = open('word_vocab.txt', encoding='utf-8')\n",
        "\n",
        "for line in f:\n",
        "  values = line.split()\n",
        "  word=values[0]\n",
        "  coeff = np.array(values[1:])\n",
        "  embedding_index[word] = coeff\n",
        "\n",
        "f.close()"
      ],
      "execution_count": 0,
      "outputs": []
    },
    {
      "cell_type": "code",
      "metadata": {
        "colab_type": "code",
        "id": "8PodZcanYsXW",
        "colab": {}
      },
      "source": [
        "from tensorflow.python.keras.preprocessing.text import Tokenizer\n",
        "from tensorflow.python.keras.preprocessing.sequence import pad_sequences\n",
        "\n",
        "tokeniser_obj = Tokenizer()\n",
        "tokeniser_obj.fit_on_texts(tokenised_review)"
      ],
      "execution_count": 0,
      "outputs": []
    },
    {
      "cell_type": "code",
      "metadata": {
        "colab_type": "code",
        "id": "RYW9gX67YtFL",
        "colab": {}
      },
      "source": [
        "sequences = tokeniser_obj.texts_to_sequences(tokenised_review)"
      ],
      "execution_count": 0,
      "outputs": []
    },
    {
      "cell_type": "code",
      "metadata": {
        "colab_type": "code",
        "id": "KRQ2aMMvdPL6",
        "colab": {}
      },
      "source": [
        "word_index = tokeniser_obj.word_index"
      ],
      "execution_count": 0,
      "outputs": []
    },
    {
      "cell_type": "code",
      "metadata": {
        "colab_type": "code",
        "id": "CchAZ0UQa_BC",
        "colab": {}
      },
      "source": [
        "review_pad = pad_sequences(sequences, maxlen=1600)\n",
        "sentiment = train['user_suggestion'].values"
      ],
      "execution_count": 0,
      "outputs": []
    },
    {
      "cell_type": "code",
      "metadata": {
        "colab_type": "code",
        "id": "7K3QANDebQtN",
        "outputId": "6e86b54c-04be-4c9d-bb08-ebe6d2d820d2",
        "colab": {
          "base_uri": "https://localhost:8080/",
          "height": 50
        }
      },
      "source": [
        "print(len(word_index))\n",
        "print(review_pad.shape)"
      ],
      "execution_count": 0,
      "outputs": [
        {
          "output_type": "stream",
          "text": [
            "70236\n",
            "(17451, 1600)\n"
          ],
          "name": "stdout"
        }
      ]
    },
    {
      "cell_type": "code",
      "metadata": {
        "colab_type": "code",
        "id": "3IXhBnXxbVUL",
        "colab": {}
      },
      "source": [
        "num_words = len(word_index)+1\n",
        "\n",
        "embedding_matrix = np.zeros((num_words, 100))"
      ],
      "execution_count": 0,
      "outputs": []
    },
    {
      "cell_type": "code",
      "metadata": {
        "colab_type": "code",
        "id": "ymd9OZUTdcj1",
        "colab": {}
      },
      "source": [
        "for word, i in word_index.items():\n",
        "  if i> num_words:\n",
        "    continue\n",
        "  embedding_vector = embedding_index[word]\n",
        "  if embedding_vector is not None:\n",
        "    embedding_matrix[i] = embedding_vector"
      ],
      "execution_count": 0,
      "outputs": []
    },
    {
      "cell_type": "code",
      "metadata": {
        "colab_type": "code",
        "id": "rxarVlXjdwAk",
        "colab": {}
      },
      "source": [
        "from keras.models import Sequential\n",
        "from keras.layers import Embedding, LSTM, Dense\n",
        "from keras.initializers import glorot_normal #xavier initialisation\n",
        "from keras.layers.embeddings import Embedding\n"
      ],
      "execution_count": 0,
      "outputs": []
    },
    {
      "cell_type": "code",
      "metadata": {
        "colab_type": "code",
        "id": "rh5wkRxyea0T",
        "colab": {}
      },
      "source": [
        "model = Sequential()\n",
        "embedding_layer = Embedding(num_words, 100, \\\n",
        "                            embeddings_initializer='glorot_normal',\\\n",
        "                            input_length=1600, trainable=False)\n",
        "model.add(embedding_layer)\n",
        "model.add(LSTM(128, dropout=0.2, recurrent_dropout=0.2))\n",
        "model.add(Dense(1, activation='sigmoid'))"
      ],
      "execution_count": 0,
      "outputs": []
    },
    {
      "cell_type": "code",
      "metadata": {
        "colab_type": "code",
        "id": "svkH429vl7vI",
        "colab": {}
      },
      "source": [
        "from tensorflow.keras.optimizers import RMSprop\n",
        "\n",
        "opt = RMSprop(lr=0.001, decay=1e-6)"
      ],
      "execution_count": 0,
      "outputs": []
    },
    {
      "cell_type": "code",
      "metadata": {
        "colab_type": "code",
        "id": "W7cUQFYHhT0i",
        "colab": {}
      },
      "source": [
        "model.compile(loss='binary_crossentropy',\n",
        "              optimizer=opt,\n",
        "              metrics=['accuracy'])"
      ],
      "execution_count": 0,
      "outputs": []
    },
    {
      "cell_type": "code",
      "metadata": {
        "colab_type": "code",
        "id": "sSEfikRNhv1B",
        "colab": {}
      },
      "source": [
        "from sklearn.model_selection import train_test_split\n",
        "from sklearn import preprocessing\n",
        "lx_train, lx_valid, ly_train, ly_valid = train_test_split(review_pad, sentiment, \n",
        "                                                      random_state=0,test_size=0.15, stratify=sentiment)"
      ],
      "execution_count": 0,
      "outputs": []
    },
    {
      "cell_type": "code",
      "metadata": {
        "colab_type": "code",
        "id": "g43WGB9Gh6mj",
        "outputId": "372f4111-2f86-4b14-de31-61e5478db599",
        "colab": {
          "base_uri": "https://localhost:8080/",
          "height": 84
        }
      },
      "source": [
        "print(lx_train.shape)\n",
        "print(ly_train.shape)\n",
        "print(lx_valid.shape)\n",
        "print(ly_valid.shape)"
      ],
      "execution_count": 0,
      "outputs": [
        {
          "output_type": "stream",
          "text": [
            "(14833, 1600)\n",
            "(14833,)\n",
            "(2618, 1600)\n",
            "(2618,)\n"
          ],
          "name": "stdout"
        }
      ]
    },
    {
      "cell_type": "code",
      "metadata": {
        "colab_type": "code",
        "id": "-NhjRJ92hnI0",
        "outputId": "759afcda-e9da-416c-f793-a3ee9b13dfbc",
        "colab": {
          "base_uri": "https://localhost:8080/",
          "height": 421
        }
      },
      "source": [
        "model.fit(lx_train, ly_train,\n",
        "          batch_size=128,\n",
        "          epochs=10,\n",
        "          validation_split=0.1)\n"
      ],
      "execution_count": 0,
      "outputs": [
        {
          "output_type": "stream",
          "text": [
            "Train on 13349 samples, validate on 1484 samples\n",
            "Epoch 1/10\n",
            "13349/13349 [==============================] - 241s 18ms/step - loss: 0.6808 - accuracy: 0.5779 - val_loss: 0.6804 - val_accuracy: 0.5748\n",
            "Epoch 2/10\n",
            "13056/13349 [============================>.] - ETA: 5s - loss: 0.6734 - accuracy: 0.5849"
          ],
          "name": "stdout"
        },
        {
          "output_type": "error",
          "ename": "KeyboardInterrupt",
          "evalue": "ignored",
          "traceback": [
            "\u001b[0;31m---------------------------------------------------------------------------\u001b[0m",
            "\u001b[0;31mKeyboardInterrupt\u001b[0m                         Traceback (most recent call last)",
            "\u001b[0;32m<ipython-input-198-35f654b217b2>\u001b[0m in \u001b[0;36m<module>\u001b[0;34m()\u001b[0m\n\u001b[1;32m      2\u001b[0m           \u001b[0mbatch_size\u001b[0m\u001b[0;34m=\u001b[0m\u001b[0;36m128\u001b[0m\u001b[0;34m,\u001b[0m\u001b[0;34m\u001b[0m\u001b[0;34m\u001b[0m\u001b[0m\n\u001b[1;32m      3\u001b[0m           \u001b[0mepochs\u001b[0m\u001b[0;34m=\u001b[0m\u001b[0;36m10\u001b[0m\u001b[0;34m,\u001b[0m\u001b[0;34m\u001b[0m\u001b[0;34m\u001b[0m\u001b[0m\n\u001b[0;32m----> 4\u001b[0;31m           validation_split=0.1)\n\u001b[0m",
            "\u001b[0;32m/usr/local/lib/python3.6/dist-packages/keras/engine/training.py\u001b[0m in \u001b[0;36mfit\u001b[0;34m(self, x, y, batch_size, epochs, verbose, callbacks, validation_split, validation_data, shuffle, class_weight, sample_weight, initial_epoch, steps_per_epoch, validation_steps, validation_freq, max_queue_size, workers, use_multiprocessing, **kwargs)\u001b[0m\n\u001b[1;32m   1237\u001b[0m                                         \u001b[0msteps_per_epoch\u001b[0m\u001b[0;34m=\u001b[0m\u001b[0msteps_per_epoch\u001b[0m\u001b[0;34m,\u001b[0m\u001b[0;34m\u001b[0m\u001b[0;34m\u001b[0m\u001b[0m\n\u001b[1;32m   1238\u001b[0m                                         \u001b[0mvalidation_steps\u001b[0m\u001b[0;34m=\u001b[0m\u001b[0mvalidation_steps\u001b[0m\u001b[0;34m,\u001b[0m\u001b[0;34m\u001b[0m\u001b[0;34m\u001b[0m\u001b[0m\n\u001b[0;32m-> 1239\u001b[0;31m                                         validation_freq=validation_freq)\n\u001b[0m\u001b[1;32m   1240\u001b[0m \u001b[0;34m\u001b[0m\u001b[0m\n\u001b[1;32m   1241\u001b[0m     def evaluate(self,\n",
            "\u001b[0;32m/usr/local/lib/python3.6/dist-packages/keras/engine/training_arrays.py\u001b[0m in \u001b[0;36mfit_loop\u001b[0;34m(model, fit_function, fit_inputs, out_labels, batch_size, epochs, verbose, callbacks, val_function, val_inputs, shuffle, initial_epoch, steps_per_epoch, validation_steps, validation_freq)\u001b[0m\n\u001b[1;32m    194\u001b[0m                     \u001b[0mins_batch\u001b[0m\u001b[0;34m[\u001b[0m\u001b[0mi\u001b[0m\u001b[0;34m]\u001b[0m \u001b[0;34m=\u001b[0m \u001b[0mins_batch\u001b[0m\u001b[0;34m[\u001b[0m\u001b[0mi\u001b[0m\u001b[0;34m]\u001b[0m\u001b[0;34m.\u001b[0m\u001b[0mtoarray\u001b[0m\u001b[0;34m(\u001b[0m\u001b[0;34m)\u001b[0m\u001b[0;34m\u001b[0m\u001b[0;34m\u001b[0m\u001b[0m\n\u001b[1;32m    195\u001b[0m \u001b[0;34m\u001b[0m\u001b[0m\n\u001b[0;32m--> 196\u001b[0;31m                 \u001b[0mouts\u001b[0m \u001b[0;34m=\u001b[0m \u001b[0mfit_function\u001b[0m\u001b[0;34m(\u001b[0m\u001b[0mins_batch\u001b[0m\u001b[0;34m)\u001b[0m\u001b[0;34m\u001b[0m\u001b[0;34m\u001b[0m\u001b[0m\n\u001b[0m\u001b[1;32m    197\u001b[0m                 \u001b[0mouts\u001b[0m \u001b[0;34m=\u001b[0m \u001b[0mto_list\u001b[0m\u001b[0;34m(\u001b[0m\u001b[0mouts\u001b[0m\u001b[0;34m)\u001b[0m\u001b[0;34m\u001b[0m\u001b[0;34m\u001b[0m\u001b[0m\n\u001b[1;32m    198\u001b[0m                 \u001b[0;32mfor\u001b[0m \u001b[0ml\u001b[0m\u001b[0;34m,\u001b[0m \u001b[0mo\u001b[0m \u001b[0;32min\u001b[0m \u001b[0mzip\u001b[0m\u001b[0;34m(\u001b[0m\u001b[0mout_labels\u001b[0m\u001b[0;34m,\u001b[0m \u001b[0mouts\u001b[0m\u001b[0;34m)\u001b[0m\u001b[0;34m:\u001b[0m\u001b[0;34m\u001b[0m\u001b[0;34m\u001b[0m\u001b[0m\n",
            "\u001b[0;32m/usr/local/lib/python3.6/dist-packages/tensorflow/python/keras/backend.py\u001b[0m in \u001b[0;36m__call__\u001b[0;34m(self, inputs)\u001b[0m\n\u001b[1;32m   3790\u001b[0m         \u001b[0mvalue\u001b[0m \u001b[0;34m=\u001b[0m \u001b[0mmath_ops\u001b[0m\u001b[0;34m.\u001b[0m\u001b[0mcast\u001b[0m\u001b[0;34m(\u001b[0m\u001b[0mvalue\u001b[0m\u001b[0;34m,\u001b[0m \u001b[0mtensor\u001b[0m\u001b[0;34m.\u001b[0m\u001b[0mdtype\u001b[0m\u001b[0;34m)\u001b[0m\u001b[0;34m\u001b[0m\u001b[0;34m\u001b[0m\u001b[0m\n\u001b[1;32m   3791\u001b[0m       \u001b[0mconverted_inputs\u001b[0m\u001b[0;34m.\u001b[0m\u001b[0mappend\u001b[0m\u001b[0;34m(\u001b[0m\u001b[0mvalue\u001b[0m\u001b[0;34m)\u001b[0m\u001b[0;34m\u001b[0m\u001b[0;34m\u001b[0m\u001b[0m\n\u001b[0;32m-> 3792\u001b[0;31m     \u001b[0moutputs\u001b[0m \u001b[0;34m=\u001b[0m \u001b[0mself\u001b[0m\u001b[0;34m.\u001b[0m\u001b[0m_graph_fn\u001b[0m\u001b[0;34m(\u001b[0m\u001b[0;34m*\u001b[0m\u001b[0mconverted_inputs\u001b[0m\u001b[0;34m)\u001b[0m\u001b[0;34m\u001b[0m\u001b[0;34m\u001b[0m\u001b[0m\n\u001b[0m\u001b[1;32m   3793\u001b[0m \u001b[0;34m\u001b[0m\u001b[0m\n\u001b[1;32m   3794\u001b[0m     \u001b[0;31m# EagerTensor.numpy() will often make a copy to ensure memory safety.\u001b[0m\u001b[0;34m\u001b[0m\u001b[0;34m\u001b[0m\u001b[0;34m\u001b[0m\u001b[0m\n",
            "\u001b[0;32m/usr/local/lib/python3.6/dist-packages/tensorflow/python/eager/function.py\u001b[0m in \u001b[0;36m__call__\u001b[0;34m(self, *args, **kwargs)\u001b[0m\n\u001b[1;32m   1603\u001b[0m       \u001b[0mTypeError\u001b[0m\u001b[0;34m:\u001b[0m \u001b[0mFor\u001b[0m \u001b[0minvalid\u001b[0m \u001b[0mpositional\u001b[0m\u001b[0;34m/\u001b[0m\u001b[0mkeyword\u001b[0m \u001b[0margument\u001b[0m \u001b[0mcombinations\u001b[0m\u001b[0;34m.\u001b[0m\u001b[0;34m\u001b[0m\u001b[0;34m\u001b[0m\u001b[0m\n\u001b[1;32m   1604\u001b[0m     \"\"\"\n\u001b[0;32m-> 1605\u001b[0;31m     \u001b[0;32mreturn\u001b[0m \u001b[0mself\u001b[0m\u001b[0;34m.\u001b[0m\u001b[0m_call_impl\u001b[0m\u001b[0;34m(\u001b[0m\u001b[0margs\u001b[0m\u001b[0;34m,\u001b[0m \u001b[0mkwargs\u001b[0m\u001b[0;34m)\u001b[0m\u001b[0;34m\u001b[0m\u001b[0;34m\u001b[0m\u001b[0m\n\u001b[0m\u001b[1;32m   1606\u001b[0m \u001b[0;34m\u001b[0m\u001b[0m\n\u001b[1;32m   1607\u001b[0m   \u001b[0;32mdef\u001b[0m \u001b[0m_call_impl\u001b[0m\u001b[0;34m(\u001b[0m\u001b[0mself\u001b[0m\u001b[0;34m,\u001b[0m \u001b[0margs\u001b[0m\u001b[0;34m,\u001b[0m \u001b[0mkwargs\u001b[0m\u001b[0;34m,\u001b[0m \u001b[0mcancellation_manager\u001b[0m\u001b[0;34m=\u001b[0m\u001b[0;32mNone\u001b[0m\u001b[0;34m)\u001b[0m\u001b[0;34m:\u001b[0m\u001b[0;34m\u001b[0m\u001b[0;34m\u001b[0m\u001b[0m\n",
            "\u001b[0;32m/usr/local/lib/python3.6/dist-packages/tensorflow/python/eager/function.py\u001b[0m in \u001b[0;36m_call_impl\u001b[0;34m(self, args, kwargs, cancellation_manager)\u001b[0m\n\u001b[1;32m   1643\u001b[0m       raise TypeError(\"Keyword arguments {} unknown. Expected {}.\".format(\n\u001b[1;32m   1644\u001b[0m           list(kwargs.keys()), list(self._arg_keywords)))\n\u001b[0;32m-> 1645\u001b[0;31m     \u001b[0;32mreturn\u001b[0m \u001b[0mself\u001b[0m\u001b[0;34m.\u001b[0m\u001b[0m_call_flat\u001b[0m\u001b[0;34m(\u001b[0m\u001b[0margs\u001b[0m\u001b[0;34m,\u001b[0m \u001b[0mself\u001b[0m\u001b[0;34m.\u001b[0m\u001b[0mcaptured_inputs\u001b[0m\u001b[0;34m,\u001b[0m \u001b[0mcancellation_manager\u001b[0m\u001b[0;34m)\u001b[0m\u001b[0;34m\u001b[0m\u001b[0;34m\u001b[0m\u001b[0m\n\u001b[0m\u001b[1;32m   1646\u001b[0m \u001b[0;34m\u001b[0m\u001b[0m\n\u001b[1;32m   1647\u001b[0m   \u001b[0;32mdef\u001b[0m \u001b[0m_filtered_call\u001b[0m\u001b[0;34m(\u001b[0m\u001b[0mself\u001b[0m\u001b[0;34m,\u001b[0m \u001b[0margs\u001b[0m\u001b[0;34m,\u001b[0m \u001b[0mkwargs\u001b[0m\u001b[0;34m)\u001b[0m\u001b[0;34m:\u001b[0m\u001b[0;34m\u001b[0m\u001b[0;34m\u001b[0m\u001b[0m\n",
            "\u001b[0;32m/usr/local/lib/python3.6/dist-packages/tensorflow/python/eager/function.py\u001b[0m in \u001b[0;36m_call_flat\u001b[0;34m(self, args, captured_inputs, cancellation_manager)\u001b[0m\n\u001b[1;32m   1744\u001b[0m       \u001b[0;31m# No tape is watching; skip to running the function.\u001b[0m\u001b[0;34m\u001b[0m\u001b[0;34m\u001b[0m\u001b[0;34m\u001b[0m\u001b[0m\n\u001b[1;32m   1745\u001b[0m       return self._build_call_outputs(self._inference_function.call(\n\u001b[0;32m-> 1746\u001b[0;31m           ctx, args, cancellation_manager=cancellation_manager))\n\u001b[0m\u001b[1;32m   1747\u001b[0m     forward_backward = self._select_forward_and_backward_functions(\n\u001b[1;32m   1748\u001b[0m         \u001b[0margs\u001b[0m\u001b[0;34m,\u001b[0m\u001b[0;34m\u001b[0m\u001b[0;34m\u001b[0m\u001b[0m\n",
            "\u001b[0;32m/usr/local/lib/python3.6/dist-packages/tensorflow/python/eager/function.py\u001b[0m in \u001b[0;36mcall\u001b[0;34m(self, ctx, args, cancellation_manager)\u001b[0m\n\u001b[1;32m    596\u001b[0m               \u001b[0minputs\u001b[0m\u001b[0;34m=\u001b[0m\u001b[0margs\u001b[0m\u001b[0;34m,\u001b[0m\u001b[0;34m\u001b[0m\u001b[0;34m\u001b[0m\u001b[0m\n\u001b[1;32m    597\u001b[0m               \u001b[0mattrs\u001b[0m\u001b[0;34m=\u001b[0m\u001b[0mattrs\u001b[0m\u001b[0;34m,\u001b[0m\u001b[0;34m\u001b[0m\u001b[0;34m\u001b[0m\u001b[0m\n\u001b[0;32m--> 598\u001b[0;31m               ctx=ctx)\n\u001b[0m\u001b[1;32m    599\u001b[0m         \u001b[0;32melse\u001b[0m\u001b[0;34m:\u001b[0m\u001b[0;34m\u001b[0m\u001b[0;34m\u001b[0m\u001b[0m\n\u001b[1;32m    600\u001b[0m           outputs = execute.execute_with_cancellation(\n",
            "\u001b[0;32m/usr/local/lib/python3.6/dist-packages/tensorflow/python/eager/execute.py\u001b[0m in \u001b[0;36mquick_execute\u001b[0;34m(op_name, num_outputs, inputs, attrs, ctx, name)\u001b[0m\n\u001b[1;32m     58\u001b[0m     \u001b[0mctx\u001b[0m\u001b[0;34m.\u001b[0m\u001b[0mensure_initialized\u001b[0m\u001b[0;34m(\u001b[0m\u001b[0;34m)\u001b[0m\u001b[0;34m\u001b[0m\u001b[0;34m\u001b[0m\u001b[0m\n\u001b[1;32m     59\u001b[0m     tensors = pywrap_tfe.TFE_Py_Execute(ctx._handle, device_name, op_name,\n\u001b[0;32m---> 60\u001b[0;31m                                         inputs, attrs, num_outputs)\n\u001b[0m\u001b[1;32m     61\u001b[0m   \u001b[0;32mexcept\u001b[0m \u001b[0mcore\u001b[0m\u001b[0;34m.\u001b[0m\u001b[0m_NotOkStatusException\u001b[0m \u001b[0;32mas\u001b[0m \u001b[0me\u001b[0m\u001b[0;34m:\u001b[0m\u001b[0;34m\u001b[0m\u001b[0;34m\u001b[0m\u001b[0m\n\u001b[1;32m     62\u001b[0m     \u001b[0;32mif\u001b[0m \u001b[0mname\u001b[0m \u001b[0;32mis\u001b[0m \u001b[0;32mnot\u001b[0m \u001b[0;32mNone\u001b[0m\u001b[0;34m:\u001b[0m\u001b[0;34m\u001b[0m\u001b[0;34m\u001b[0m\u001b[0m\n",
            "\u001b[0;31mKeyboardInterrupt\u001b[0m: "
          ]
        }
      ]
    },
    {
      "cell_type": "code",
      "metadata": {
        "colab_type": "code",
        "id": "4hnGSVHDjBlz",
        "colab": {}
      },
      "source": [
        ""
      ],
      "execution_count": 0,
      "outputs": []
    }
  ]
}